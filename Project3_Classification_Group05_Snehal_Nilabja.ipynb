{
 "cells": [
  {
   "cell_type": "code",
   "execution_count": 1,
   "metadata": {},
   "outputs": [],
   "source": [
    "import pandas as pd\n",
    "import numpy as np\n",
    "import matplotlib.pyplot as plt\n",
    "#import mglearn\n",
    "from sklearn.metrics import roc_auc_score\n",
    "from sklearn.model_selection import train_test_split\n",
    "from sklearn.preprocessing import MinMaxScaler\n",
    "from sklearn.model_selection import GridSearchCV\n",
    "from sklearn.neighbors import KNeighborsClassifier\n",
    "from sklearn.svm import LinearSVC\n",
    "from sklearn.ensemble import VotingClassifier\n",
    "from sklearn.linear_model import LogisticRegression\n",
    "from sklearn.svm import SVC\n",
    "from sklearn.ensemble import RandomForestClassifier\n",
    "from sklearn.tree import DecisionTreeClassifier\n",
    "from sklearn import metrics\n",
    "from sklearn.metrics import roc_curve, auc\n",
    "from sklearn.metrics import roc_auc_score\n",
    "import warnings\n",
    "warnings.filterwarnings('ignore')\n",
    "from sklearn.neighbors import KNeighborsClassifier\n",
    "from sklearn.ensemble import VotingClassifier\n",
    "from sklearn.linear_model import LogisticRegression\n",
    "from sklearn.svm import SVC\n",
    "from sklearn.ensemble import BaggingClassifier\n",
    "from sklearn.model_selection import train_test_split\n",
    "from pandas import ExcelWriter\n",
    "from sklearn.metrics import roc_auc_score\n",
    "from sklearn.ensemble import AdaBoostClassifier\n",
    "from sklearn.tree import DecisionTreeClassifier\n",
    "#from openpyxl import Workbook"
   ]
  },
  {
   "cell_type": "code",
   "execution_count": 2,
   "metadata": {},
   "outputs": [],
   "source": [
    "Twitter_Absolute_Sigma = pd.read_table('Twitter-Absolute-Sigma-500.data',sep=\",\")"
   ]
  },
  {
   "cell_type": "code",
   "execution_count": 3,
   "metadata": {},
   "outputs": [],
   "source": [
    "Twitter_Absolute_Sigma.columns= [\"NCD_0\", \"NCD_1\", \"NCD_2\", \"NCD_3\", \"NCD_4\", \"NCD_5\", \"NCD_6\", \"AI_0\", \"AI_1\", \"AI_2\", \"AI_3\", \"AI_4\", \"AI_5\", \"AI_6\", \"AS_NA_0\", \"AS_NA_1\", \"AS_NA_2\", \"AS_NA_3\", \"AS_NA_4\", \"AS_NA_5\", \"AS_NA_6\", \"BL_0\", \"BL_1\", \"BL_2\", \"BL_3\", \"BL_4\", \"BL_5\", \"BL_6\", \"NAC_0\", \"NAC_1\", \"NAC_2\", \"NAC_3\", \"NAC_4\", \"NAC_5\", \"NAC_6\", \"AS_NAC_0\", \"AS_NAC_1\", \"AS_NAC_2\", \"AS_NAC_3\", \"AS_NAC_4\", \"AS_NAC_5\", \"AS_NAC_6\", \"CS_0\", \"CS_1\", \"CS_2\", \"CS_3\", \"CS_4\", \"CS_5\", \"CS_6\", \"AT_0\", \"AT_1\", \"AT_2\", \"AT_3\", \"AT_4\", \"AT_5\", \"AT_6\", \"NA_0\", \"NA_1\", \"NA_2\", \"NA_3\", \"NA_4\", \"NA_5\", \"NA_6\", \"ADL_0\", \"ADL_1\", \"ADL_2\", \"ADL_3\", \"ADL_4\", \"ADL_5\", \"ADL_6\", \"NAD_0\", \"NAD_1\", \"NAD_2\", \"NAD_3\", \"NAD_4\", \"NAD_5\", \"NAD_6\", \"buzz\"]"
   ]
  },
  {
   "cell_type": "code",
   "execution_count": 4,
   "metadata": {},
   "outputs": [],
   "source": [
    "Twitter_Absolute_Sigma['buzz'] = Twitter_Absolute_Sigma['buzz'].map( {1.: 1, 0.: 0} ).astype(int)\n"
   ]
  },
  {
   "cell_type": "code",
   "execution_count": 5,
   "metadata": {},
   "outputs": [],
   "source": [
    "#Twitter_Absolute_Sigma = Twitter_Absolute_Sigma[:5000]\n",
    "X = Twitter_Absolute_Sigma"
   ]
  },
  {
   "cell_type": "code",
   "execution_count": 6,
   "metadata": {},
   "outputs": [],
   "source": [
    "X= X.drop(['buzz'],axis = 1)\n",
    "y = Twitter_Absolute_Sigma['buzz']"
   ]
  },
  {
   "cell_type": "code",
   "execution_count": 7,
   "metadata": {},
   "outputs": [],
   "source": [
    "Dummytrain,sample_data,Dummytrain2,sample_target = train_test_split(X, y, shuffle = True, test_size = 0.1)\n"
   ]
  },
  {
   "cell_type": "code",
   "execution_count": 8,
   "metadata": {},
   "outputs": [],
   "source": [
    "X = sample_data\n",
    "y = sample_target"
   ]
  },
  {
   "cell_type": "code",
   "execution_count": 10,
   "metadata": {},
   "outputs": [
    {
     "data": {
      "text/plain": [
       "(14071, 77)"
      ]
     },
     "execution_count": 10,
     "metadata": {},
     "output_type": "execute_result"
    }
   ],
   "source": [
    "X.shape"
   ]
  },
  {
   "cell_type": "code",
   "execution_count": 9,
   "metadata": {},
   "outputs": [],
   "source": [
    "X_train_org, X_test_org, y_train, y_test = train_test_split(X, y, random_state=0)"
   ]
  },
  {
   "cell_type": "code",
   "execution_count": 11,
   "metadata": {},
   "outputs": [],
   "source": [
    "#We choose the MinMaxScaler to scale the data\n",
    "scaler = MinMaxScaler()\n",
    "X_train = scaler.fit_transform(X_train_org)\n",
    "X_test = scaler.transform(X_test_org)\n",
    "\n",
    "X_full_scaled = scaler.fit_transform(X)"
   ]
  },
  {
   "cell_type": "markdown",
   "metadata": {},
   "source": [
    "# Apply four voting classifiers - two with hard voting and two with soft voting"
   ]
  },
  {
   "cell_type": "code",
   "execution_count": null,
   "metadata": {},
   "outputs": [
    {
     "data": {
      "text/plain": [
       "LinearSVC(C=10, class_weight=None, dual=True, fit_intercept=True,\n",
       "     intercept_scaling=1, loss='squared_hinge', max_iter=1000,\n",
       "     multi_class='ovr', penalty='l2', random_state=None, tol=0.0001,\n",
       "     verbose=0)"
      ]
     },
     "execution_count": 12,
     "metadata": {},
     "output_type": "execute_result"
    }
   ],
   "source": [
    "log_clf = LogisticRegression(C=100)\n",
    "log_clf.fit(X_train, y_train)\n",
    "knn_clf = KNeighborsClassifier(20)\n",
    "knn_clf.fit(X_train, y_train)\n",
    "\n",
    "dtc =DecisionTreeClassifier(max_depth=3)\n",
    "dtc.fit(X_train, y_train)\n",
    "svc_lin = LinearSVC(C=10)\n",
    "svc_lin.fit(X_train, y_train)"
   ]
  },
  {
   "cell_type": "code",
   "execution_count": null,
   "metadata": {},
   "outputs": [
    {
     "name": "stdout",
     "output_type": "stream",
     "text": [
      "DecisionTreeClassifier 0.9593519044911881\n",
      "LinearSVC 0.9633314383172257\n",
      "VotingClassifier 0.9624786810687891\n"
     ]
    }
   ],
   "source": [
    "\n",
    "voting_clf = VotingClassifier(estimators=[('dtc', dtc),('svc_lin',svc_lin)], voting='hard')\n",
    "voting_clf.fit(X_train, y_train)\n",
    "\n",
    "from sklearn.metrics import accuracy_score\n",
    "for clf in (dtc, svc_lin, voting_clf):\n",
    "    clf.fit(X_train, y_train)\n",
    "    y_pred = clf.predict(X_test)\n",
    "    print(clf.__class__.__name__, accuracy_score(y_test, y_pred))\n"
   ]
  },
  {
   "cell_type": "code",
   "execution_count": 125,
   "metadata": {},
   "outputs": [
    {
     "name": "stdout",
     "output_type": "stream",
     "text": [
      "LogisticRegression 0.9627629334849346\n",
      "KNeighborsClassifier 0.9602046617396248\n",
      "VotingClassifier 0.9633314383172257\n"
     ]
    }
   ],
   "source": [
    "voting_clf_soft = VotingClassifier(estimators=[('lr', log_clf), ('knn', knn_clf)], voting='soft')\n",
    "voting_clf_soft.fit(X_train, y_train)\n",
    "\n",
    "from sklearn.metrics import accuracy_score\n",
    "for clf in (log_clf, knn_clf, voting_clf_soft):\n",
    "    clf.fit(X_train, y_train)\n",
    "    y_pred = clf.predict(X_test)\n",
    "    print(clf.__class__.__name__, accuracy_score(y_test, y_pred))"
   ]
  },
  {
   "cell_type": "code",
   "execution_count": null,
   "metadata": {},
   "outputs": [],
   "source": []
  },
  {
   "cell_type": "markdown",
   "metadata": {},
   "source": [
    "# Apply any two models with bagging and any two models with pasting"
   ]
  },
  {
   "cell_type": "markdown",
   "metadata": {},
   "source": [
    "##### KNeighborsClassifier with Bagging"
   ]
  },
  {
   "cell_type": "code",
   "execution_count": 28,
   "metadata": {},
   "outputs": [],
   "source": [
    "from sklearn.ensemble import BaggingClassifier\n",
    "\n",
    "#From Project 2 we have seen that the optimum value of n_neighbors is 20\n",
    "model_name_knn = 'KNeighborsClassifier(Bagging)'\n",
    "knn = KNeighborsClassifier(n_neighbors=20)\n",
    "bag_knn = BaggingClassifier(knn, n_estimators = 100, max_samples= 500, n_jobs = -1, random_state=0)\n",
    "bag_knn.fit(X_train, y_train)\n",
    "train_score = bag_knn.score(X_train, y_train)\n",
    "test_score = bag_knn.score(X_test, y_test)\n",
    "\n",
    "Parameters = 'n_neighbors=20'"
   ]
  },
  {
   "cell_type": "code",
   "execution_count": 29,
   "metadata": {},
   "outputs": [
    {
     "name": "stdout",
     "output_type": "stream",
     "text": [
      "KNeighborsClassifier Bagging: train_score 0.9546100634890552\n",
      "KNeighborsClassifier Bagging: test_score 0.9565093803297328\n"
     ]
    }
   ],
   "source": [
    "print('KNeighborsClassifier Bagging: train_score',train_score)\n",
    "print('KNeighborsClassifier Bagging: test_score',test_score)"
   ]
  },
  {
   "cell_type": "code",
   "execution_count": 30,
   "metadata": {},
   "outputs": [],
   "source": [
    "report_table = []"
   ]
  },
  {
   "cell_type": "code",
   "execution_count": 31,
   "metadata": {},
   "outputs": [
    {
     "data": {
      "text/html": [
       "<div>\n",
       "<style scoped>\n",
       "    .dataframe tbody tr th:only-of-type {\n",
       "        vertical-align: middle;\n",
       "    }\n",
       "\n",
       "    .dataframe tbody tr th {\n",
       "        vertical-align: top;\n",
       "    }\n",
       "\n",
       "    .dataframe thead th {\n",
       "        text-align: right;\n",
       "    }\n",
       "</style>\n",
       "<table border=\"1\" class=\"dataframe\">\n",
       "  <thead>\n",
       "    <tr style=\"text-align: right;\">\n",
       "      <th></th>\n",
       "      <th>Parameters from Proj2</th>\n",
       "      <th>Train accuracy</th>\n",
       "      <th>Test accuracy</th>\n",
       "    </tr>\n",
       "    <tr>\n",
       "      <th>Model</th>\n",
       "      <th></th>\n",
       "      <th></th>\n",
       "      <th></th>\n",
       "    </tr>\n",
       "  </thead>\n",
       "  <tbody>\n",
       "    <tr>\n",
       "      <th>KNeighborsClassifier(Bagging)</th>\n",
       "      <td>n_neighbors=20</td>\n",
       "      <td>0.95461</td>\n",
       "      <td>0.956509</td>\n",
       "    </tr>\n",
       "  </tbody>\n",
       "</table>\n",
       "</div>"
      ],
      "text/plain": [
       "                              Parameters from Proj2  Train accuracy  \\\n",
       "Model                                                                 \n",
       "KNeighborsClassifier(Bagging)        n_neighbors=20         0.95461   \n",
       "\n",
       "                               Test accuracy  \n",
       "Model                                         \n",
       "KNeighborsClassifier(Bagging)       0.956509  "
      ]
     },
     "execution_count": 31,
     "metadata": {},
     "output_type": "execute_result"
    }
   ],
   "source": [
    "report_table = [[model_name_knn, Parameters, train_score, test_score]]\n",
    "\n",
    "report_tabledf = pd.DataFrame(report_table, columns = ['Model', 'Parameters from Proj2', 'Train accuracy', 'Test accuracy']).set_index('Model', drop=True)\n",
    "report_tabledf"
   ]
  },
  {
   "cell_type": "markdown",
   "metadata": {},
   "source": [
    "##### LogisticRegression with bagging"
   ]
  },
  {
   "cell_type": "code",
   "execution_count": 32,
   "metadata": {},
   "outputs": [],
   "source": [
    "#LogisticRegression with bagging\n",
    "model_name_logreg = 'LogisticRegression with bagging'\n",
    "logreg = LogisticRegression(C=100)"
   ]
  },
  {
   "cell_type": "code",
   "execution_count": 33,
   "metadata": {},
   "outputs": [],
   "source": [
    "bag_lr = BaggingClassifier(logreg, n_estimators = 100, max_samples= 500, n_jobs = -1, random_state=0)\n",
    "bag_lr.fit(X_train, y_train)\n",
    "train_score = bag_lr.score(X_train, y_train)\n",
    "test_score = bag_lr.score(X_test, y_test)\n",
    "\n",
    "Parameters = 'C=100'"
   ]
  },
  {
   "cell_type": "code",
   "execution_count": 34,
   "metadata": {},
   "outputs": [
    {
     "name": "stdout",
     "output_type": "stream",
     "text": [
      "logreg Bagging: train_score 0.9602008907419691\n",
      "logreg Bagging: test_score 0.9602046617396248\n"
     ]
    }
   ],
   "source": [
    "print('logreg Bagging: train_score',train_score)\n",
    "print('logreg Bagging: test_score',test_score)"
   ]
  },
  {
   "cell_type": "code",
   "execution_count": 36,
   "metadata": {},
   "outputs": [
    {
     "data": {
      "text/html": [
       "<div>\n",
       "<style scoped>\n",
       "    .dataframe tbody tr th:only-of-type {\n",
       "        vertical-align: middle;\n",
       "    }\n",
       "\n",
       "    .dataframe tbody tr th {\n",
       "        vertical-align: top;\n",
       "    }\n",
       "\n",
       "    .dataframe thead th {\n",
       "        text-align: right;\n",
       "    }\n",
       "</style>\n",
       "<table border=\"1\" class=\"dataframe\">\n",
       "  <thead>\n",
       "    <tr style=\"text-align: right;\">\n",
       "      <th></th>\n",
       "      <th>Parameters from Proj2</th>\n",
       "      <th>Train accuracy</th>\n",
       "      <th>Test accuracy</th>\n",
       "    </tr>\n",
       "    <tr>\n",
       "      <th>Model</th>\n",
       "      <th></th>\n",
       "      <th></th>\n",
       "      <th></th>\n",
       "    </tr>\n",
       "  </thead>\n",
       "  <tbody>\n",
       "    <tr>\n",
       "      <th>KNeighborsClassifier(Bagging)</th>\n",
       "      <td>n_neighbors=20</td>\n",
       "      <td>0.954610</td>\n",
       "      <td>0.956509</td>\n",
       "    </tr>\n",
       "    <tr>\n",
       "      <th>LogisticRegression with bagging</th>\n",
       "      <td>C=100</td>\n",
       "      <td>0.960201</td>\n",
       "      <td>0.960205</td>\n",
       "    </tr>\n",
       "  </tbody>\n",
       "</table>\n",
       "</div>"
      ],
      "text/plain": [
       "                                Parameters from Proj2  Train accuracy  \\\n",
       "Model                                                                   \n",
       "KNeighborsClassifier(Bagging)          n_neighbors=20        0.954610   \n",
       "LogisticRegression with bagging                 C=100        0.960201   \n",
       "\n",
       "                                 Test accuracy  \n",
       "Model                                           \n",
       "KNeighborsClassifier(Bagging)         0.956509  \n",
       "LogisticRegression with bagging       0.960205  "
      ]
     },
     "execution_count": 36,
     "metadata": {},
     "output_type": "execute_result"
    }
   ],
   "source": [
    "report_table = report_table + [[model_name_logreg, Parameters, train_score, test_score]]\n",
    "\n",
    "report_tabledf = pd.DataFrame(report_table, columns = ['Model', 'Parameters from Proj2', 'Train accuracy', 'Test accuracy']).set_index('Model', drop=True)\n",
    "report_tabledf"
   ]
  },
  {
   "cell_type": "markdown",
   "metadata": {},
   "source": [
    "##### Linear SVC with Pasting"
   ]
  },
  {
   "cell_type": "code",
   "execution_count": 35,
   "metadata": {},
   "outputs": [],
   "source": [
    "model_name_lin = 'LinearSVC with pasting'\n",
    "\n",
    "svc_lin = LinearSVC(C=10)"
   ]
  },
  {
   "cell_type": "code",
   "execution_count": 37,
   "metadata": {},
   "outputs": [],
   "source": [
    "bag_lin = BaggingClassifier(svc_lin, n_estimators = 100, max_samples= 500,bootstrap=False, n_jobs = -1, random_state=0)\n",
    "bag_lin.fit(X_train, y_train)\n",
    "train_score_lin = bag_lin.score(X_train, y_train)\n",
    "test_score_lin = bag_lin.score(X_test, y_test)\n",
    "\n",
    "Parameters = 'C=10'"
   ]
  },
  {
   "cell_type": "code",
   "execution_count": 38,
   "metadata": {},
   "outputs": [
    {
     "name": "stdout",
     "output_type": "stream",
     "text": [
      "LinearSVC with pasting: train_score 0.9655074386430399\n",
      "LinearSVC with pasting: test_score 0.9613416714042069\n"
     ]
    }
   ],
   "source": [
    "print('LinearSVC with pasting: train_score',train_score_lin)\n",
    "print('LinearSVC with pasting: test_score',test_score_lin)"
   ]
  },
  {
   "cell_type": "code",
   "execution_count": 39,
   "metadata": {},
   "outputs": [
    {
     "data": {
      "text/html": [
       "<div>\n",
       "<style scoped>\n",
       "    .dataframe tbody tr th:only-of-type {\n",
       "        vertical-align: middle;\n",
       "    }\n",
       "\n",
       "    .dataframe tbody tr th {\n",
       "        vertical-align: top;\n",
       "    }\n",
       "\n",
       "    .dataframe thead th {\n",
       "        text-align: right;\n",
       "    }\n",
       "</style>\n",
       "<table border=\"1\" class=\"dataframe\">\n",
       "  <thead>\n",
       "    <tr style=\"text-align: right;\">\n",
       "      <th></th>\n",
       "      <th>Parameters from Proj2</th>\n",
       "      <th>Train accuracy</th>\n",
       "      <th>Test accuracy</th>\n",
       "    </tr>\n",
       "    <tr>\n",
       "      <th>Model</th>\n",
       "      <th></th>\n",
       "      <th></th>\n",
       "      <th></th>\n",
       "    </tr>\n",
       "  </thead>\n",
       "  <tbody>\n",
       "    <tr>\n",
       "      <th>KNeighborsClassifier(Bagging)</th>\n",
       "      <td>n_neighbors=20</td>\n",
       "      <td>0.954610</td>\n",
       "      <td>0.956509</td>\n",
       "    </tr>\n",
       "    <tr>\n",
       "      <th>LogisticRegression with bagging</th>\n",
       "      <td>C=100</td>\n",
       "      <td>0.960201</td>\n",
       "      <td>0.960205</td>\n",
       "    </tr>\n",
       "    <tr>\n",
       "      <th>LinearSVC with pasting</th>\n",
       "      <td>C=10</td>\n",
       "      <td>0.960201</td>\n",
       "      <td>0.960205</td>\n",
       "    </tr>\n",
       "  </tbody>\n",
       "</table>\n",
       "</div>"
      ],
      "text/plain": [
       "                                Parameters from Proj2  Train accuracy  \\\n",
       "Model                                                                   \n",
       "KNeighborsClassifier(Bagging)          n_neighbors=20        0.954610   \n",
       "LogisticRegression with bagging                 C=100        0.960201   \n",
       "LinearSVC with pasting                           C=10        0.960201   \n",
       "\n",
       "                                 Test accuracy  \n",
       "Model                                           \n",
       "KNeighborsClassifier(Bagging)         0.956509  \n",
       "LogisticRegression with bagging       0.960205  \n",
       "LinearSVC with pasting                0.960205  "
      ]
     },
     "execution_count": 39,
     "metadata": {},
     "output_type": "execute_result"
    }
   ],
   "source": [
    "report_table = report_table + [[model_name_lin, Parameters, train_score, test_score]]\n",
    "\n",
    "report_tabledf = pd.DataFrame(report_table, columns = ['Model', 'Parameters from Proj2', 'Train accuracy', 'Test accuracy']).set_index('Model', drop=True)\n",
    "report_tabledf"
   ]
  },
  {
   "cell_type": "code",
   "execution_count": 40,
   "metadata": {},
   "outputs": [
    {
     "name": "stdout",
     "output_type": "stream",
     "text": [
      "DTree Classifier with pasting: train_score 0.9683502321614706\n",
      "DTree Classifier with pasting: test_score 0.9641841955656623\n"
     ]
    }
   ],
   "source": [
    "model_name_dtc = 'DTree Classifier with pasting'\n",
    "\n",
    "dtc =DecisionTreeClassifier(max_depth=3)\n",
    "\n",
    "bag_dtc = BaggingClassifier(dtc, n_estimators = 100, max_samples= 500,bootstrap=False, n_jobs = -1, random_state=0)\n",
    "bag_dtc.fit(X_train, y_train)\n",
    "train_score_dtc = bag_dtc.score(X_train, y_train)\n",
    "test_score_dtc = bag_dtc.score(X_test, y_test)\n",
    "\n",
    "Parameters = 'max_depth=3'\n",
    "\n",
    "print('DTree Classifier with pasting: train_score',train_score_dtc)\n",
    "print('DTree Classifier with pasting: test_score',test_score_dtc)\n"
   ]
  },
  {
   "cell_type": "code",
   "execution_count": 41,
   "metadata": {},
   "outputs": [
    {
     "data": {
      "text/html": [
       "<div>\n",
       "<style scoped>\n",
       "    .dataframe tbody tr th:only-of-type {\n",
       "        vertical-align: middle;\n",
       "    }\n",
       "\n",
       "    .dataframe tbody tr th {\n",
       "        vertical-align: top;\n",
       "    }\n",
       "\n",
       "    .dataframe thead th {\n",
       "        text-align: right;\n",
       "    }\n",
       "</style>\n",
       "<table border=\"1\" class=\"dataframe\">\n",
       "  <thead>\n",
       "    <tr style=\"text-align: right;\">\n",
       "      <th></th>\n",
       "      <th>Parameters from Proj2</th>\n",
       "      <th>Train accuracy</th>\n",
       "      <th>Test accuracy</th>\n",
       "    </tr>\n",
       "    <tr>\n",
       "      <th>Model</th>\n",
       "      <th></th>\n",
       "      <th></th>\n",
       "      <th></th>\n",
       "    </tr>\n",
       "  </thead>\n",
       "  <tbody>\n",
       "    <tr>\n",
       "      <th>KNeighborsClassifier(Bagging)</th>\n",
       "      <td>n_neighbors=20</td>\n",
       "      <td>0.954610</td>\n",
       "      <td>0.956509</td>\n",
       "    </tr>\n",
       "    <tr>\n",
       "      <th>LogisticRegression with bagging</th>\n",
       "      <td>C=100</td>\n",
       "      <td>0.960201</td>\n",
       "      <td>0.960205</td>\n",
       "    </tr>\n",
       "    <tr>\n",
       "      <th>LinearSVC with pasting</th>\n",
       "      <td>C=10</td>\n",
       "      <td>0.960201</td>\n",
       "      <td>0.960205</td>\n",
       "    </tr>\n",
       "    <tr>\n",
       "      <th>DTree Classifier with pasting</th>\n",
       "      <td>max_depth=3</td>\n",
       "      <td>0.960201</td>\n",
       "      <td>0.960205</td>\n",
       "    </tr>\n",
       "  </tbody>\n",
       "</table>\n",
       "</div>"
      ],
      "text/plain": [
       "                                Parameters from Proj2  Train accuracy  \\\n",
       "Model                                                                   \n",
       "KNeighborsClassifier(Bagging)          n_neighbors=20        0.954610   \n",
       "LogisticRegression with bagging                 C=100        0.960201   \n",
       "LinearSVC with pasting                           C=10        0.960201   \n",
       "DTree Classifier with pasting             max_depth=3        0.960201   \n",
       "\n",
       "                                 Test accuracy  \n",
       "Model                                           \n",
       "KNeighborsClassifier(Bagging)         0.956509  \n",
       "LogisticRegression with bagging       0.960205  \n",
       "LinearSVC with pasting                0.960205  \n",
       "DTree Classifier with pasting         0.960205  "
      ]
     },
     "execution_count": 41,
     "metadata": {},
     "output_type": "execute_result"
    }
   ],
   "source": [
    "report_table = report_table + [[model_name_dtc, Parameters, train_score, test_score]]\n",
    "\n",
    "report_tabledf = pd.DataFrame(report_table, columns = ['Model', 'Parameters from Proj2', 'Train accuracy', 'Test accuracy']).set_index('Model', drop=True)\n",
    "report_tabledf"
   ]
  },
  {
   "cell_type": "code",
   "execution_count": null,
   "metadata": {},
   "outputs": [],
   "source": []
  },
  {
   "cell_type": "markdown",
   "metadata": {},
   "source": [
    "# Apply any two models with adaboost boosting"
   ]
  },
  {
   "cell_type": "code",
   "execution_count": 43,
   "metadata": {},
   "outputs": [],
   "source": [
    "model_name_ada_dtc = 'DTree Classifier (Adaboost)'\n",
    "\n",
    "dtc =DecisionTreeClassifier(max_depth=3)\n",
    "adatree_dtc = AdaBoostClassifier(dtc, n_estimators = 100, learning_rate= 0.5, random_state=0)"
   ]
  },
  {
   "cell_type": "code",
   "execution_count": 44,
   "metadata": {},
   "outputs": [
    {
     "data": {
      "text/plain": [
       "AdaBoostClassifier(algorithm='SAMME.R',\n",
       "          base_estimator=DecisionTreeClassifier(class_weight=None, criterion='gini', max_depth=3,\n",
       "            max_features=None, max_leaf_nodes=None,\n",
       "            min_impurity_decrease=0.0, min_impurity_split=None,\n",
       "            min_samples_leaf=1, min_samples_split=2,\n",
       "            min_weight_fraction_leaf=0.0, presort=False, random_state=None,\n",
       "            splitter='best'),\n",
       "          learning_rate=0.5, n_estimators=100, random_state=0)"
      ]
     },
     "execution_count": 44,
     "metadata": {},
     "output_type": "execute_result"
    }
   ],
   "source": [
    "adatree_dtc.fit(X_train, y_train)"
   ]
  },
  {
   "cell_type": "code",
   "execution_count": 45,
   "metadata": {},
   "outputs": [
    {
     "name": "stdout",
     "output_type": "stream",
     "text": [
      "DTree Classifier (Adaboost): train_score 0.9683502321614706\n",
      "DTree Classifier (Adaboost): test_score 0.9641841955656623\n"
     ]
    }
   ],
   "source": [
    "train_score = adatree_dtc.score(X_train, y_train)\n",
    "test_score = adatree_dtc.score(X_test, y_test)\n",
    "print('DTree Classifier (Adaboost): train_score',train_score_dtc)\n",
    "print('DTree Classifier (Adaboost): test_score',test_score_dtc)"
   ]
  },
  {
   "cell_type": "code",
   "execution_count": 46,
   "metadata": {},
   "outputs": [
    {
     "data": {
      "text/html": [
       "<div>\n",
       "<style scoped>\n",
       "    .dataframe tbody tr th:only-of-type {\n",
       "        vertical-align: middle;\n",
       "    }\n",
       "\n",
       "    .dataframe tbody tr th {\n",
       "        vertical-align: top;\n",
       "    }\n",
       "\n",
       "    .dataframe thead th {\n",
       "        text-align: right;\n",
       "    }\n",
       "</style>\n",
       "<table border=\"1\" class=\"dataframe\">\n",
       "  <thead>\n",
       "    <tr style=\"text-align: right;\">\n",
       "      <th></th>\n",
       "      <th>Parameters from Proj2</th>\n",
       "      <th>Train accuracy</th>\n",
       "      <th>Test accuracy</th>\n",
       "    </tr>\n",
       "    <tr>\n",
       "      <th>Model</th>\n",
       "      <th></th>\n",
       "      <th></th>\n",
       "      <th></th>\n",
       "    </tr>\n",
       "  </thead>\n",
       "  <tbody>\n",
       "    <tr>\n",
       "      <th>KNeighborsClassifier(Bagging)</th>\n",
       "      <td>n_neighbors=20</td>\n",
       "      <td>0.954610</td>\n",
       "      <td>0.956509</td>\n",
       "    </tr>\n",
       "    <tr>\n",
       "      <th>LogisticRegression with bagging</th>\n",
       "      <td>C=100</td>\n",
       "      <td>0.960201</td>\n",
       "      <td>0.960205</td>\n",
       "    </tr>\n",
       "    <tr>\n",
       "      <th>LinearSVC with pasting</th>\n",
       "      <td>C=10</td>\n",
       "      <td>0.960201</td>\n",
       "      <td>0.960205</td>\n",
       "    </tr>\n",
       "    <tr>\n",
       "      <th>DTree Classifier with pasting</th>\n",
       "      <td>max_depth=3</td>\n",
       "      <td>0.960201</td>\n",
       "      <td>0.960205</td>\n",
       "    </tr>\n",
       "    <tr>\n",
       "      <th>DTree Classifier (Adaboost)</th>\n",
       "      <td>max_depth=3</td>\n",
       "      <td>1.000000</td>\n",
       "      <td>0.963616</td>\n",
       "    </tr>\n",
       "  </tbody>\n",
       "</table>\n",
       "</div>"
      ],
      "text/plain": [
       "                                Parameters from Proj2  Train accuracy  \\\n",
       "Model                                                                   \n",
       "KNeighborsClassifier(Bagging)          n_neighbors=20        0.954610   \n",
       "LogisticRegression with bagging                 C=100        0.960201   \n",
       "LinearSVC with pasting                           C=10        0.960201   \n",
       "DTree Classifier with pasting             max_depth=3        0.960201   \n",
       "DTree Classifier (Adaboost)               max_depth=3        1.000000   \n",
       "\n",
       "                                 Test accuracy  \n",
       "Model                                           \n",
       "KNeighborsClassifier(Bagging)         0.956509  \n",
       "LogisticRegression with bagging       0.960205  \n",
       "LinearSVC with pasting                0.960205  \n",
       "DTree Classifier with pasting         0.960205  \n",
       "DTree Classifier (Adaboost)           0.963616  "
      ]
     },
     "execution_count": 46,
     "metadata": {},
     "output_type": "execute_result"
    }
   ],
   "source": [
    "report_table = report_table + [[model_name_ada_dtc, Parameters, train_score, test_score]]\n",
    "\n",
    "report_tabledf = pd.DataFrame(report_table, columns = ['Model', 'Parameters from Proj2', 'Train accuracy', 'Test accuracy']).set_index('Model', drop=True)\n",
    "report_tabledf"
   ]
  },
  {
   "cell_type": "markdown",
   "metadata": {},
   "source": [
    "##### Kernel SVC with Adaboost"
   ]
  },
  {
   "cell_type": "code",
   "execution_count": 55,
   "metadata": {},
   "outputs": [],
   "source": [
    "model_nameLogisticRegression = 'LogisticRegression (Adaboost)'\n",
    "\n",
    "logreg = LogisticRegression(C=100)\n",
    "#When nothing is passed to the Kernel parameter by default it takes 'rbf'\n",
    "adatree_logreg = AdaBoostClassifier(logreg, n_estimators = 100, learning_rate= 0.5, random_state=0)\n"
   ]
  },
  {
   "cell_type": "code",
   "execution_count": 56,
   "metadata": {},
   "outputs": [
    {
     "data": {
      "text/plain": [
       "AdaBoostClassifier(algorithm='SAMME.R',\n",
       "          base_estimator=LogisticRegression(C=100, class_weight=None, dual=False, fit_intercept=True,\n",
       "          intercept_scaling=1, max_iter=100, multi_class='warn',\n",
       "          n_jobs=None, penalty='l2', random_state=None, solver='warn',\n",
       "          tol=0.0001, verbose=0, warm_start=False),\n",
       "          learning_rate=0.5, n_estimators=100, random_state=0)"
      ]
     },
     "execution_count": 56,
     "metadata": {},
     "output_type": "execute_result"
    }
   ],
   "source": [
    "adatree_logreg.fit(X_train, y_train)"
   ]
  },
  {
   "cell_type": "code",
   "execution_count": 57,
   "metadata": {},
   "outputs": [
    {
     "name": "stdout",
     "output_type": "stream",
     "text": [
      "LogisticRegression (Adaboost): train_score 0.9683502321614706\n",
      "LogisticRegression (Adaboost): test_score 0.9641841955656623\n"
     ]
    }
   ],
   "source": [
    "train_score = adatree_logreg.score(X_train, y_train)\n",
    "test_score = adatree_logreg.score(X_test, y_test)\n",
    "print('LogisticRegression (Adaboost): train_score',train_score_dtc)\n",
    "print('LogisticRegression (Adaboost): test_score',test_score_dtc)"
   ]
  },
  {
   "cell_type": "code",
   "execution_count": null,
   "metadata": {},
   "outputs": [],
   "source": [
    "report_table = report_table + [[model_nameLogisticRegression, Parameters, train_score, test_score]]\n",
    "\n",
    "report_tabledf = pd.DataFrame(report_table, columns = ['Model', 'Parameters from Proj2', 'Train accuracy', 'Test accuracy']).set_index('Model', drop=True)\n",
    "report_tabledf"
   ]
  },
  {
   "cell_type": "markdown",
   "metadata": {},
   "source": [
    "# Apply one model with gradient boosting"
   ]
  },
  {
   "cell_type": "code",
   "execution_count": 60,
   "metadata": {},
   "outputs": [],
   "source": [
    "from sklearn.ensemble import GradientBoostingClassifier"
   ]
  },
  {
   "cell_type": "code",
   "execution_count": 61,
   "metadata": {},
   "outputs": [],
   "source": [
    "model_name_gbrt ='GradientBoostingClassifier'\n",
    "\n",
    "gbrt = GradientBoostingClassifier(max_depth=3, random_state=0)\n",
    "param_grid = {'n_estimators': [50, 100, 200], 'learning_rate':[0.1, 0.5, 1.0]}"
   ]
  },
  {
   "cell_type": "code",
   "execution_count": 62,
   "metadata": {},
   "outputs": [],
   "source": [
    "grid_gbrt = GridSearchCV(gbrt, param_grid, cv=5, n_jobs=-1, return_train_score=True)"
   ]
  },
  {
   "cell_type": "code",
   "execution_count": 63,
   "metadata": {},
   "outputs": [],
   "source": [
    "grid_gbrt.fit(X_train, y_train)\n",
    "train_score = grid_gbrt.score(X_train, y_train)\n",
    "test_score = grid_gbrt.score(X_test, y_test)"
   ]
  },
  {
   "cell_type": "code",
   "execution_count": 64,
   "metadata": {},
   "outputs": [
    {
     "name": "stdout",
     "output_type": "stream",
     "text": [
      "Best parameters: {'learning_rate': 0.1, 'n_estimators': 50}\n"
     ]
    }
   ],
   "source": [
    "best_parameters = str(grid_gbrt.best_params_)\n",
    "print(\"Best parameters: {}\".format(grid_gbrt.best_params_))"
   ]
  },
  {
   "cell_type": "code",
   "execution_count": 65,
   "metadata": {},
   "outputs": [
    {
     "data": {
      "text/html": [
       "<div>\n",
       "<style scoped>\n",
       "    .dataframe tbody tr th:only-of-type {\n",
       "        vertical-align: middle;\n",
       "    }\n",
       "\n",
       "    .dataframe tbody tr th {\n",
       "        vertical-align: top;\n",
       "    }\n",
       "\n",
       "    .dataframe thead th {\n",
       "        text-align: right;\n",
       "    }\n",
       "</style>\n",
       "<table border=\"1\" class=\"dataframe\">\n",
       "  <thead>\n",
       "    <tr style=\"text-align: right;\">\n",
       "      <th></th>\n",
       "      <th>Parameters from Proj2</th>\n",
       "      <th>Train accuracy</th>\n",
       "      <th>Test accuracy</th>\n",
       "    </tr>\n",
       "    <tr>\n",
       "      <th>Model</th>\n",
       "      <th></th>\n",
       "      <th></th>\n",
       "      <th></th>\n",
       "    </tr>\n",
       "  </thead>\n",
       "  <tbody>\n",
       "    <tr>\n",
       "      <th>KNeighborsClassifier(Bagging)</th>\n",
       "      <td>n_neighbors=20</td>\n",
       "      <td>0.954610</td>\n",
       "      <td>0.956509</td>\n",
       "    </tr>\n",
       "    <tr>\n",
       "      <th>LogisticRegression with bagging</th>\n",
       "      <td>C=100</td>\n",
       "      <td>0.960201</td>\n",
       "      <td>0.960205</td>\n",
       "    </tr>\n",
       "    <tr>\n",
       "      <th>LinearSVC with pasting</th>\n",
       "      <td>C=10</td>\n",
       "      <td>0.960201</td>\n",
       "      <td>0.960205</td>\n",
       "    </tr>\n",
       "    <tr>\n",
       "      <th>DTree Classifier with pasting</th>\n",
       "      <td>max_depth=3</td>\n",
       "      <td>0.960201</td>\n",
       "      <td>0.960205</td>\n",
       "    </tr>\n",
       "    <tr>\n",
       "      <th>DTree Classifier (Adaboost)</th>\n",
       "      <td>max_depth=3</td>\n",
       "      <td>1.000000</td>\n",
       "      <td>0.963616</td>\n",
       "    </tr>\n",
       "    <tr>\n",
       "      <th>LogisticRegression (Adaboost)</th>\n",
       "      <td>max_depth=3</td>\n",
       "      <td>0.947977</td>\n",
       "      <td>0.946276</td>\n",
       "    </tr>\n",
       "    <tr>\n",
       "      <th>GradientBoostingClassifier</th>\n",
       "      <td>max_depth=3</td>\n",
       "      <td>0.977352</td>\n",
       "      <td>0.965890</td>\n",
       "    </tr>\n",
       "  </tbody>\n",
       "</table>\n",
       "</div>"
      ],
      "text/plain": [
       "                                Parameters from Proj2  Train accuracy  \\\n",
       "Model                                                                   \n",
       "KNeighborsClassifier(Bagging)          n_neighbors=20        0.954610   \n",
       "LogisticRegression with bagging                 C=100        0.960201   \n",
       "LinearSVC with pasting                           C=10        0.960201   \n",
       "DTree Classifier with pasting             max_depth=3        0.960201   \n",
       "DTree Classifier (Adaboost)               max_depth=3        1.000000   \n",
       "LogisticRegression (Adaboost)             max_depth=3        0.947977   \n",
       "GradientBoostingClassifier                max_depth=3        0.977352   \n",
       "\n",
       "                                 Test accuracy  \n",
       "Model                                           \n",
       "KNeighborsClassifier(Bagging)         0.956509  \n",
       "LogisticRegression with bagging       0.960205  \n",
       "LinearSVC with pasting                0.960205  \n",
       "DTree Classifier with pasting         0.960205  \n",
       "DTree Classifier (Adaboost)           0.963616  \n",
       "LogisticRegression (Adaboost)         0.946276  \n",
       "GradientBoostingClassifier            0.965890  "
      ]
     },
     "execution_count": 65,
     "metadata": {},
     "output_type": "execute_result"
    }
   ],
   "source": [
    "report_table = report_table + [[model_name_gbrt, Parameters, train_score, test_score]]\n",
    "\n",
    "report_tabledf = pd.DataFrame(report_table, columns = ['Model', 'Parameters from Proj2', 'Train accuracy', 'Test accuracy']).set_index('Model', drop=True)\n",
    "report_tabledf"
   ]
  },
  {
   "cell_type": "markdown",
   "metadata": {},
   "source": [
    "# PCA"
   ]
  },
  {
   "cell_type": "markdown",
   "metadata": {},
   "source": [
    "Apply PCA on data and then apply all the models in project 2 again on data you get from PCA. Compare your results with results in project 2. You don't need to apply all the models twice. Just copy the result table from project 2, prepare similar table for all the models after PCA and compare both tables. Does PCA help in getting better results?"
   ]
  },
  {
   "cell_type": "code",
   "execution_count": 68,
   "metadata": {},
   "outputs": [],
   "source": [
    "from sklearn.decomposition import PCA\n",
    "from sklearn.preprocessing import StandardScaler\n",
    "scaler = StandardScaler()\n",
    "X_std_scaled = scaler.fit_transform(X)\n",
    "pca = PCA(n_components = 0.95)\n",
    "X_reduced = pca.fit_transform(X_std_scaled)\n"
   ]
  },
  {
   "cell_type": "code",
   "execution_count": 69,
   "metadata": {},
   "outputs": [
    {
     "data": {
      "text/plain": [
       "(14071, 15)"
      ]
     },
     "execution_count": 69,
     "metadata": {},
     "output_type": "execute_result"
    }
   ],
   "source": [
    "X_reduced.shape"
   ]
  },
  {
   "cell_type": "code",
   "execution_count": 70,
   "metadata": {},
   "outputs": [],
   "source": [
    "X_train_pca, X_test_pca, y_train, y_test = train_test_split(X_reduced, y, random_state=0)"
   ]
  },
  {
   "cell_type": "code",
   "execution_count": 71,
   "metadata": {},
   "outputs": [
    {
     "data": {
      "text/plain": [
       "(10553, 15)"
      ]
     },
     "execution_count": 71,
     "metadata": {},
     "output_type": "execute_result"
    }
   ],
   "source": [
    "X_train_pca.shape"
   ]
  },
  {
   "cell_type": "code",
   "execution_count": 72,
   "metadata": {},
   "outputs": [
    {
     "data": {
      "text/plain": [
       "(3518, 15)"
      ]
     },
     "execution_count": 72,
     "metadata": {},
     "output_type": "execute_result"
    }
   ],
   "source": [
    "X_test_pca.shape"
   ]
  },
  {
   "cell_type": "code",
   "execution_count": 106,
   "metadata": {},
   "outputs": [
    {
     "name": "stdout",
     "output_type": "stream",
     "text": [
      "Train set accuracy: 0.97\n",
      "Test set accuracy: 0.96\n",
      "Train roc_auc_score: 0.96\n",
      "Test roc_auc_score: 0.95 \n"
     ]
    }
   ],
   "source": [
    "model_name = 'KNeighborsClassifier with PCA'\n",
    "knn = KNeighborsClassifier(n_neighbors=20)\n",
    "knn.fit(X_train_pca, y_train)\n",
    "train_score = knn.score(X_train_pca, y_train)\n",
    "test_score = knn.score(X_test_pca, y_test)\n",
    "print(\"Train set accuracy: {:.2f}\".format(knn.score(X_train_pca, y_train)))\n",
    "print(\"Test set accuracy: {:.2f}\".format(knn.score(X_test_pca, y_test)))\n",
    "y_knn_predict = knn.predict(X_test_pca)\n",
    "y_knn_train_predict = knn.predict(X_train_pca)\n",
    "from sklearn.metrics import roc_auc_score\n",
    "\n",
    "auc_train_score = roc_auc_score(y_knn_train_predict, y_train)\n",
    "auc_test_score = roc_auc_score(y_knn_predict, y_test)\n",
    "\n",
    "print('Train roc_auc_score: %.2f'%roc_auc_score(y_knn_train_predict, y_train))\n",
    "print('Test roc_auc_score: %.2f '%roc_auc_score(y_knn_predict, y_test))"
   ]
  },
  {
   "cell_type": "code",
   "execution_count": 107,
   "metadata": {},
   "outputs": [],
   "source": [
    "report_PCA = []"
   ]
  },
  {
   "cell_type": "code",
   "execution_count": 108,
   "metadata": {},
   "outputs": [],
   "source": [
    "report_PCA = [[model_name, \"n_neighbors=20\" , train_score, test_score, auc_train_score, auc_test_score]]"
   ]
  },
  {
   "cell_type": "code",
   "execution_count": 109,
   "metadata": {},
   "outputs": [],
   "source": [
    "report_table_PCA = pd.DataFrame(report_PCA, columns = ['Model', 'Parameters', 'Train accuracy', 'Test accuracy', 'Train AUC Score', 'Test AUC Score']).set_index('Model', drop=True)"
   ]
  },
  {
   "cell_type": "code",
   "execution_count": 110,
   "metadata": {},
   "outputs": [
    {
     "data": {
      "text/html": [
       "<div>\n",
       "<style scoped>\n",
       "    .dataframe tbody tr th:only-of-type {\n",
       "        vertical-align: middle;\n",
       "    }\n",
       "\n",
       "    .dataframe tbody tr th {\n",
       "        vertical-align: top;\n",
       "    }\n",
       "\n",
       "    .dataframe thead th {\n",
       "        text-align: right;\n",
       "    }\n",
       "</style>\n",
       "<table border=\"1\" class=\"dataframe\">\n",
       "  <thead>\n",
       "    <tr style=\"text-align: right;\">\n",
       "      <th></th>\n",
       "      <th>Parameters</th>\n",
       "      <th>Train accuracy</th>\n",
       "      <th>Test accuracy</th>\n",
       "      <th>Train AUC Score</th>\n",
       "      <th>Test AUC Score</th>\n",
       "    </tr>\n",
       "    <tr>\n",
       "      <th>Model</th>\n",
       "      <th></th>\n",
       "      <th></th>\n",
       "      <th></th>\n",
       "      <th></th>\n",
       "      <th></th>\n",
       "    </tr>\n",
       "  </thead>\n",
       "  <tbody>\n",
       "    <tr>\n",
       "      <th>KNeighborsClassifier with PCA</th>\n",
       "      <td>n_neighbors=20</td>\n",
       "      <td>0.966455</td>\n",
       "      <td>0.963616</td>\n",
       "      <td>0.956417</td>\n",
       "      <td>0.952917</td>\n",
       "    </tr>\n",
       "  </tbody>\n",
       "</table>\n",
       "</div>"
      ],
      "text/plain": [
       "                                   Parameters  Train accuracy  Test accuracy  \\\n",
       "Model                                                                          \n",
       "KNeighborsClassifier with PCA  n_neighbors=20        0.966455       0.963616   \n",
       "\n",
       "                               Train AUC Score  Test AUC Score  \n",
       "Model                                                           \n",
       "KNeighborsClassifier with PCA         0.956417        0.952917  "
      ]
     },
     "execution_count": 110,
     "metadata": {},
     "output_type": "execute_result"
    }
   ],
   "source": [
    "report_table_PCA"
   ]
  },
  {
   "cell_type": "code",
   "execution_count": 111,
   "metadata": {},
   "outputs": [],
   "source": [
    "#LogisticRegression with PCA"
   ]
  },
  {
   "cell_type": "code",
   "execution_count": 112,
   "metadata": {},
   "outputs": [
    {
     "name": "stdout",
     "output_type": "stream",
     "text": [
      "Train set accuracy: 0.97\n",
      "Test set accuracy: 0.96\n",
      "Train roc_auc_score: 0.96\n",
      "Test roc_auc_score: 0.95 \n"
     ]
    }
   ],
   "source": [
    "model_name = 'LogisticRegression with PCA'\n",
    "logreg_PCA = LogisticRegression(C=100)\n",
    "logreg_PCA.fit(X_train_pca, y_train)\n",
    "train_score = logreg_PCA.score(X_train_pca, y_train)\n",
    "test_score = logreg_PCA.score(X_test_pca, y_test)\n",
    "print(\"Train set accuracy: {:.2f}\".format(logreg_PCA.score(X_train_pca, y_train)))\n",
    "print(\"Test set accuracy: {:.2f}\".format(logreg_PCA.score(X_test_pca, y_test)))\n",
    "y_logreg_predict = logreg_PCA.predict(X_test_pca)\n",
    "y_logreg_train_predict = logreg_PCA.predict(X_train_pca)\n",
    "from sklearn.metrics import roc_auc_score\n",
    "\n",
    "auc_train_score = roc_auc_score(y_logreg_train_predict, y_train)\n",
    "auc_test_score = roc_auc_score(y_logreg_predict, y_test)\n",
    "\n",
    "print('Train roc_auc_score: %.2f'%roc_auc_score(y_logreg_train_predict, y_train))\n",
    "print('Test roc_auc_score: %.2f '%roc_auc_score(y_logreg_predict, y_test))"
   ]
  },
  {
   "cell_type": "code",
   "execution_count": 113,
   "metadata": {},
   "outputs": [
    {
     "data": {
      "text/html": [
       "<div>\n",
       "<style scoped>\n",
       "    .dataframe tbody tr th:only-of-type {\n",
       "        vertical-align: middle;\n",
       "    }\n",
       "\n",
       "    .dataframe tbody tr th {\n",
       "        vertical-align: top;\n",
       "    }\n",
       "\n",
       "    .dataframe thead th {\n",
       "        text-align: right;\n",
       "    }\n",
       "</style>\n",
       "<table border=\"1\" class=\"dataframe\">\n",
       "  <thead>\n",
       "    <tr style=\"text-align: right;\">\n",
       "      <th></th>\n",
       "      <th>Parameters</th>\n",
       "      <th>Train accuracy</th>\n",
       "      <th>Test accuracy</th>\n",
       "      <th>Train AUC Score</th>\n",
       "      <th>Test AUC Score</th>\n",
       "    </tr>\n",
       "    <tr>\n",
       "      <th>Model</th>\n",
       "      <th></th>\n",
       "      <th></th>\n",
       "      <th></th>\n",
       "      <th></th>\n",
       "      <th></th>\n",
       "    </tr>\n",
       "  </thead>\n",
       "  <tbody>\n",
       "    <tr>\n",
       "      <th>KNeighborsClassifier with PCA</th>\n",
       "      <td>n_neighbors=20</td>\n",
       "      <td>0.966455</td>\n",
       "      <td>0.963616</td>\n",
       "      <td>0.956417</td>\n",
       "      <td>0.952917</td>\n",
       "    </tr>\n",
       "    <tr>\n",
       "      <th>LogisticRegression with PCA</th>\n",
       "      <td>C=100</td>\n",
       "      <td>0.965507</td>\n",
       "      <td>0.962763</td>\n",
       "      <td>0.955021</td>\n",
       "      <td>0.951711</td>\n",
       "    </tr>\n",
       "  </tbody>\n",
       "</table>\n",
       "</div>"
      ],
      "text/plain": [
       "                                   Parameters  Train accuracy  Test accuracy  \\\n",
       "Model                                                                          \n",
       "KNeighborsClassifier with PCA  n_neighbors=20        0.966455       0.963616   \n",
       "LogisticRegression with PCA             C=100        0.965507       0.962763   \n",
       "\n",
       "                               Train AUC Score  Test AUC Score  \n",
       "Model                                                           \n",
       "KNeighborsClassifier with PCA         0.956417        0.952917  \n",
       "LogisticRegression with PCA           0.955021        0.951711  "
      ]
     },
     "execution_count": 113,
     "metadata": {},
     "output_type": "execute_result"
    }
   ],
   "source": [
    "report_PCA = report_PCA + [[model_name, \"C=100\" , train_score, test_score, auc_train_score, auc_test_score]]\n",
    "report_table_PCA = pd.DataFrame(report_PCA, columns = ['Model', 'Parameters', 'Train accuracy', 'Test accuracy', 'Train AUC Score', 'Test AUC Score']).set_index('Model', drop=True)\n",
    "report_table_PCA"
   ]
  },
  {
   "cell_type": "code",
   "execution_count": 114,
   "metadata": {},
   "outputs": [
    {
     "name": "stdout",
     "output_type": "stream",
     "text": [
      "Train set accuracy: 0.96\n",
      "Test set accuracy: 0.96\n",
      "Train roc_auc_score: 0.96\n",
      "Test roc_auc_score: 0.95 \n"
     ]
    }
   ],
   "source": [
    "#'LinearSVC with PCA'\n",
    "model_name = 'LinearSVC with PCA'\n",
    "svc_lin_PCA = LinearSVC(C=1)\n",
    "svc_lin_PCA.fit(X_train_pca, y_train)\n",
    "train_score = svc_lin_PCA.score(X_train_pca, y_train)\n",
    "test_score = svc_lin_PCA.score(X_test_pca, y_test)\n",
    "print(\"Train set accuracy: {:.2f}\".format(svc_lin_PCA.score(X_train_pca, y_train)))\n",
    "print(\"Test set accuracy: {:.2f}\".format(svc_lin_PCA.score(X_test_pca, y_test)))\n",
    "y_lin_predict = svc_lin_PCA.predict(X_test_pca)\n",
    "y_lin_train_predict = svc_lin_PCA.predict(X_train_pca)\n",
    "from sklearn.metrics import roc_auc_score\n",
    "\n",
    "auc_train_score = roc_auc_score(y_lin_train_predict, y_train)\n",
    "auc_test_score = roc_auc_score(y_lin_predict, y_test)\n",
    "\n",
    "print('Train roc_auc_score: %.2f'%roc_auc_score(y_lin_train_predict, y_train))\n",
    "print('Test roc_auc_score: %.2f '%roc_auc_score(y_lin_predict, y_test))"
   ]
  },
  {
   "cell_type": "code",
   "execution_count": 115,
   "metadata": {},
   "outputs": [
    {
     "data": {
      "text/html": [
       "<div>\n",
       "<style scoped>\n",
       "    .dataframe tbody tr th:only-of-type {\n",
       "        vertical-align: middle;\n",
       "    }\n",
       "\n",
       "    .dataframe tbody tr th {\n",
       "        vertical-align: top;\n",
       "    }\n",
       "\n",
       "    .dataframe thead th {\n",
       "        text-align: right;\n",
       "    }\n",
       "</style>\n",
       "<table border=\"1\" class=\"dataframe\">\n",
       "  <thead>\n",
       "    <tr style=\"text-align: right;\">\n",
       "      <th></th>\n",
       "      <th>Parameters</th>\n",
       "      <th>Train accuracy</th>\n",
       "      <th>Test accuracy</th>\n",
       "      <th>Train AUC Score</th>\n",
       "      <th>Test AUC Score</th>\n",
       "    </tr>\n",
       "    <tr>\n",
       "      <th>Model</th>\n",
       "      <th></th>\n",
       "      <th></th>\n",
       "      <th></th>\n",
       "      <th></th>\n",
       "      <th></th>\n",
       "    </tr>\n",
       "  </thead>\n",
       "  <tbody>\n",
       "    <tr>\n",
       "      <th>KNeighborsClassifier with PCA</th>\n",
       "      <td>n_neighbors=20</td>\n",
       "      <td>0.966455</td>\n",
       "      <td>0.963616</td>\n",
       "      <td>0.956417</td>\n",
       "      <td>0.952917</td>\n",
       "    </tr>\n",
       "    <tr>\n",
       "      <th>LogisticRegression with PCA</th>\n",
       "      <td>C=100</td>\n",
       "      <td>0.965507</td>\n",
       "      <td>0.962763</td>\n",
       "      <td>0.955021</td>\n",
       "      <td>0.951711</td>\n",
       "    </tr>\n",
       "    <tr>\n",
       "      <th>LinearSVC with PCA</th>\n",
       "      <td>C=1</td>\n",
       "      <td>0.964086</td>\n",
       "      <td>0.961910</td>\n",
       "      <td>0.956903</td>\n",
       "      <td>0.953870</td>\n",
       "    </tr>\n",
       "  </tbody>\n",
       "</table>\n",
       "</div>"
      ],
      "text/plain": [
       "                                   Parameters  Train accuracy  Test accuracy  \\\n",
       "Model                                                                          \n",
       "KNeighborsClassifier with PCA  n_neighbors=20        0.966455       0.963616   \n",
       "LogisticRegression with PCA             C=100        0.965507       0.962763   \n",
       "LinearSVC with PCA                        C=1        0.964086       0.961910   \n",
       "\n",
       "                               Train AUC Score  Test AUC Score  \n",
       "Model                                                           \n",
       "KNeighborsClassifier with PCA         0.956417        0.952917  \n",
       "LogisticRegression with PCA           0.955021        0.951711  \n",
       "LinearSVC with PCA                    0.956903        0.953870  "
      ]
     },
     "execution_count": 115,
     "metadata": {},
     "output_type": "execute_result"
    }
   ],
   "source": [
    "report_PCA = report_PCA + [[model_name, \"C=1\" , train_score, test_score, auc_train_score, auc_test_score]]\n",
    "report_table_PCA = pd.DataFrame(report_PCA, columns = ['Model', 'Parameters', 'Train accuracy', 'Test accuracy', 'Train AUC Score', 'Test AUC Score']).set_index('Model', drop=True)\n",
    "report_table_PCA"
   ]
  },
  {
   "cell_type": "code",
   "execution_count": 116,
   "metadata": {},
   "outputs": [
    {
     "name": "stdout",
     "output_type": "stream",
     "text": [
      "Train set accuracy: 0.97\n",
      "Test set accuracy: 0.96\n",
      "Train roc_auc_score: 0.96\n",
      "Test roc_auc_score: 0.94 \n"
     ]
    }
   ],
   "source": [
    "#'Kernel SVM with PCA'\n",
    "model_name = 'Kernel SVM with PCA'\n",
    "SVC_PCA = SVC(C=100,gamma=0.1)\n",
    "SVC_PCA.fit(X_train_pca, y_train)\n",
    "train_score = SVC_PCA.score(X_train_pca, y_train)\n",
    "test_score = SVC_PCA.score(X_test_pca, y_test)\n",
    "print(\"Train set accuracy: {:.2f}\".format(SVC_PCA.score(X_train_pca, y_train)))\n",
    "print(\"Test set accuracy: {:.2f}\".format(SVC_PCA.score(X_test_pca, y_test)))\n",
    "y_SVC_predict = SVC_PCA.predict(X_test_pca)\n",
    "y_SVC_train_predict = SVC_PCA.predict(X_train_pca)\n",
    "from sklearn.metrics import roc_auc_score\n",
    "\n",
    "auc_train_score = roc_auc_score(y_SVC_train_predict, y_train)\n",
    "auc_test_score = roc_auc_score(y_SVC_predict, y_test)\n",
    "\n",
    "print('Train roc_auc_score: %.2f'%roc_auc_score(y_SVC_train_predict, y_train))\n",
    "print('Test roc_auc_score: %.2f '%roc_auc_score(y_SVC_predict, y_test))"
   ]
  },
  {
   "cell_type": "code",
   "execution_count": 117,
   "metadata": {},
   "outputs": [
    {
     "data": {
      "text/html": [
       "<div>\n",
       "<style scoped>\n",
       "    .dataframe tbody tr th:only-of-type {\n",
       "        vertical-align: middle;\n",
       "    }\n",
       "\n",
       "    .dataframe tbody tr th {\n",
       "        vertical-align: top;\n",
       "    }\n",
       "\n",
       "    .dataframe thead th {\n",
       "        text-align: right;\n",
       "    }\n",
       "</style>\n",
       "<table border=\"1\" class=\"dataframe\">\n",
       "  <thead>\n",
       "    <tr style=\"text-align: right;\">\n",
       "      <th></th>\n",
       "      <th>Parameters</th>\n",
       "      <th>Train accuracy</th>\n",
       "      <th>Test accuracy</th>\n",
       "      <th>Train AUC Score</th>\n",
       "      <th>Test AUC Score</th>\n",
       "    </tr>\n",
       "    <tr>\n",
       "      <th>Model</th>\n",
       "      <th></th>\n",
       "      <th></th>\n",
       "      <th></th>\n",
       "      <th></th>\n",
       "      <th></th>\n",
       "    </tr>\n",
       "  </thead>\n",
       "  <tbody>\n",
       "    <tr>\n",
       "      <th>KNeighborsClassifier with PCA</th>\n",
       "      <td>n_neighbors=20</td>\n",
       "      <td>0.966455</td>\n",
       "      <td>0.963616</td>\n",
       "      <td>0.956417</td>\n",
       "      <td>0.952917</td>\n",
       "    </tr>\n",
       "    <tr>\n",
       "      <th>LogisticRegression with PCA</th>\n",
       "      <td>C=100</td>\n",
       "      <td>0.965507</td>\n",
       "      <td>0.962763</td>\n",
       "      <td>0.955021</td>\n",
       "      <td>0.951711</td>\n",
       "    </tr>\n",
       "    <tr>\n",
       "      <th>LinearSVC with PCA</th>\n",
       "      <td>C=1</td>\n",
       "      <td>0.964086</td>\n",
       "      <td>0.961910</td>\n",
       "      <td>0.956903</td>\n",
       "      <td>0.953870</td>\n",
       "    </tr>\n",
       "    <tr>\n",
       "      <th>Kernel SVM with PCA</th>\n",
       "      <td>C=100,gamma=0.1</td>\n",
       "      <td>0.973278</td>\n",
       "      <td>0.958783</td>\n",
       "      <td>0.964722</td>\n",
       "      <td>0.941199</td>\n",
       "    </tr>\n",
       "  </tbody>\n",
       "</table>\n",
       "</div>"
      ],
      "text/plain": [
       "                                    Parameters  Train accuracy  Test accuracy  \\\n",
       "Model                                                                           \n",
       "KNeighborsClassifier with PCA   n_neighbors=20        0.966455       0.963616   \n",
       "LogisticRegression with PCA              C=100        0.965507       0.962763   \n",
       "LinearSVC with PCA                         C=1        0.964086       0.961910   \n",
       "Kernel SVM with PCA            C=100,gamma=0.1        0.973278       0.958783   \n",
       "\n",
       "                               Train AUC Score  Test AUC Score  \n",
       "Model                                                           \n",
       "KNeighborsClassifier with PCA         0.956417        0.952917  \n",
       "LogisticRegression with PCA           0.955021        0.951711  \n",
       "LinearSVC with PCA                    0.956903        0.953870  \n",
       "Kernel SVM with PCA                   0.964722        0.941199  "
      ]
     },
     "execution_count": 117,
     "metadata": {},
     "output_type": "execute_result"
    }
   ],
   "source": [
    "report_PCA = report_PCA + [[model_name, \"C=100,gamma=0.1\" , train_score, test_score, auc_train_score, auc_test_score]]\n",
    "report_table_PCA = pd.DataFrame(report_PCA, columns = ['Model', 'Parameters', 'Train accuracy', 'Test accuracy', 'Train AUC Score', 'Test AUC Score']).set_index('Model', drop=True)\n",
    "report_table_PCA"
   ]
  },
  {
   "cell_type": "code",
   "execution_count": 118,
   "metadata": {},
   "outputs": [
    {
     "name": "stdout",
     "output_type": "stream",
     "text": [
      "Train set accuracy: 0.96\n",
      "Test set accuracy: 0.96\n",
      "Train roc_auc_score: 0.94\n",
      "Test roc_auc_score: 0.93 \n"
     ]
    }
   ],
   "source": [
    "\n",
    "#'Decision Tree with PCA'\n",
    "model_name = 'Decision Tree with PCA'\n",
    "dtc_PCA =DecisionTreeClassifier(max_depth=3)\n",
    "dtc_PCA.fit(X_train_pca, y_train)\n",
    "train_score = dtc_PCA.score(X_train_pca, y_train)\n",
    "test_score = dtc_PCA.score(X_test_pca, y_test)\n",
    "print(\"Train set accuracy: {:.2f}\".format(dtc_PCA.score(X_train_pca, y_train)))\n",
    "print(\"Test set accuracy: {:.2f}\".format(dtc_PCA.score(X_test_pca, y_test)))\n",
    "y_dtc_train_predict = dtc_PCA.predict(X_train_pca)\n",
    "y_dtc_predict = dtc_PCA.predict(X_test_pca)\n",
    "from sklearn.metrics import roc_auc_score\n",
    "\n",
    "auc_train_score = roc_auc_score(y_dtc_train_predict, y_train)\n",
    "auc_test_score = roc_auc_score(y_dtc_predict, y_test)\n",
    "\n",
    "print('Train roc_auc_score: %.2f'%roc_auc_score(y_dtc_train_predict, y_train))\n",
    "print('Test roc_auc_score: %.2f '%roc_auc_score(y_dtc_predict, y_test))"
   ]
  },
  {
   "cell_type": "code",
   "execution_count": 119,
   "metadata": {},
   "outputs": [
    {
     "data": {
      "text/html": [
       "<div>\n",
       "<style scoped>\n",
       "    .dataframe tbody tr th:only-of-type {\n",
       "        vertical-align: middle;\n",
       "    }\n",
       "\n",
       "    .dataframe tbody tr th {\n",
       "        vertical-align: top;\n",
       "    }\n",
       "\n",
       "    .dataframe thead th {\n",
       "        text-align: right;\n",
       "    }\n",
       "</style>\n",
       "<table border=\"1\" class=\"dataframe\">\n",
       "  <thead>\n",
       "    <tr style=\"text-align: right;\">\n",
       "      <th></th>\n",
       "      <th>Parameters</th>\n",
       "      <th>Train accuracy</th>\n",
       "      <th>Test accuracy</th>\n",
       "      <th>Train AUC Score</th>\n",
       "      <th>Test AUC Score</th>\n",
       "    </tr>\n",
       "    <tr>\n",
       "      <th>Model</th>\n",
       "      <th></th>\n",
       "      <th></th>\n",
       "      <th></th>\n",
       "      <th></th>\n",
       "      <th></th>\n",
       "    </tr>\n",
       "  </thead>\n",
       "  <tbody>\n",
       "    <tr>\n",
       "      <th>KNeighborsClassifier with PCA</th>\n",
       "      <td>n_neighbors=20</td>\n",
       "      <td>0.966455</td>\n",
       "      <td>0.963616</td>\n",
       "      <td>0.956417</td>\n",
       "      <td>0.952917</td>\n",
       "    </tr>\n",
       "    <tr>\n",
       "      <th>LogisticRegression with PCA</th>\n",
       "      <td>C=100</td>\n",
       "      <td>0.965507</td>\n",
       "      <td>0.962763</td>\n",
       "      <td>0.955021</td>\n",
       "      <td>0.951711</td>\n",
       "    </tr>\n",
       "    <tr>\n",
       "      <th>LinearSVC with PCA</th>\n",
       "      <td>C=1</td>\n",
       "      <td>0.964086</td>\n",
       "      <td>0.961910</td>\n",
       "      <td>0.956903</td>\n",
       "      <td>0.953870</td>\n",
       "    </tr>\n",
       "    <tr>\n",
       "      <th>Kernel SVM with PCA</th>\n",
       "      <td>C=100,gamma=0.1</td>\n",
       "      <td>0.973278</td>\n",
       "      <td>0.958783</td>\n",
       "      <td>0.964722</td>\n",
       "      <td>0.941199</td>\n",
       "    </tr>\n",
       "    <tr>\n",
       "      <th>Decision Tree with PCA</th>\n",
       "      <td>max_depth=3</td>\n",
       "      <td>0.963991</td>\n",
       "      <td>0.958499</td>\n",
       "      <td>0.938292</td>\n",
       "      <td>0.930586</td>\n",
       "    </tr>\n",
       "  </tbody>\n",
       "</table>\n",
       "</div>"
      ],
      "text/plain": [
       "                                    Parameters  Train accuracy  Test accuracy  \\\n",
       "Model                                                                           \n",
       "KNeighborsClassifier with PCA   n_neighbors=20        0.966455       0.963616   \n",
       "LogisticRegression with PCA              C=100        0.965507       0.962763   \n",
       "LinearSVC with PCA                         C=1        0.964086       0.961910   \n",
       "Kernel SVM with PCA            C=100,gamma=0.1        0.973278       0.958783   \n",
       "Decision Tree with PCA             max_depth=3        0.963991       0.958499   \n",
       "\n",
       "                               Train AUC Score  Test AUC Score  \n",
       "Model                                                           \n",
       "KNeighborsClassifier with PCA         0.956417        0.952917  \n",
       "LogisticRegression with PCA           0.955021        0.951711  \n",
       "LinearSVC with PCA                    0.956903        0.953870  \n",
       "Kernel SVM with PCA                   0.964722        0.941199  \n",
       "Decision Tree with PCA                0.938292        0.930586  "
      ]
     },
     "execution_count": 119,
     "metadata": {},
     "output_type": "execute_result"
    }
   ],
   "source": [
    "report_PCA = report_PCA + [[model_name, \"max_depth=3\" , train_score, test_score, auc_train_score, auc_test_score]]\n",
    "report_table_PCA = pd.DataFrame(report_PCA, columns = ['Model', 'Parameters', 'Train accuracy', 'Test accuracy', 'Train AUC Score', 'Test AUC Score']).set_index('Model', drop=True)\n",
    "\n",
    "report_table_PCA"
   ]
  },
  {
   "cell_type": "code",
   "execution_count": 121,
   "metadata": {},
   "outputs": [],
   "source": [
    "writer = pd.ExcelWriter('Classification PCA Report final.xlsx')\n",
    "report_tabledf.to_excel(writer,'PCA')\n",
    "writer.save()"
   ]
  },
  {
   "cell_type": "code",
   "execution_count": 122,
   "metadata": {},
   "outputs": [],
   "source": [
    "project2_report = pd.read_excel('C:/Users/Test/Downloads/ClassificationFinalReport.xlsx')"
   ]
  },
  {
   "cell_type": "code",
   "execution_count": 123,
   "metadata": {},
   "outputs": [
    {
     "data": {
      "text/html": [
       "<div>\n",
       "<style scoped>\n",
       "    .dataframe tbody tr th:only-of-type {\n",
       "        vertical-align: middle;\n",
       "    }\n",
       "\n",
       "    .dataframe tbody tr th {\n",
       "        vertical-align: top;\n",
       "    }\n",
       "\n",
       "    .dataframe thead th {\n",
       "        text-align: right;\n",
       "    }\n",
       "</style>\n",
       "<table border=\"1\" class=\"dataframe\">\n",
       "  <thead>\n",
       "    <tr style=\"text-align: right;\">\n",
       "      <th></th>\n",
       "      <th>Model</th>\n",
       "      <th>Best Parameters</th>\n",
       "      <th>Train accuracy</th>\n",
       "      <th>Test accuracy</th>\n",
       "      <th>Train AUC Score</th>\n",
       "      <th>Test AUC Score</th>\n",
       "    </tr>\n",
       "  </thead>\n",
       "  <tbody>\n",
       "    <tr>\n",
       "      <th>0</th>\n",
       "      <td>KNeighborsClassifier</td>\n",
       "      <td>{'n_neighbors': 20}</td>\n",
       "      <td>0.992840</td>\n",
       "      <td>0.982360</td>\n",
       "      <td>0.955569</td>\n",
       "      <td>0.955244</td>\n",
       "    </tr>\n",
       "    <tr>\n",
       "      <th>1</th>\n",
       "      <td>LogisticRegression</td>\n",
       "      <td>{'C': 100}</td>\n",
       "      <td>0.992184</td>\n",
       "      <td>0.991584</td>\n",
       "      <td>0.955776</td>\n",
       "      <td>0.949502</td>\n",
       "    </tr>\n",
       "    <tr>\n",
       "      <th>2</th>\n",
       "      <td>LinearSVC</td>\n",
       "      <td>{'C': 10}</td>\n",
       "      <td>0.992256</td>\n",
       "      <td>0.991565</td>\n",
       "      <td>0.958279</td>\n",
       "      <td>0.955885</td>\n",
       "    </tr>\n",
       "    <tr>\n",
       "      <th>3</th>\n",
       "      <td>KernelSVC</td>\n",
       "      <td>{'C': 100, 'gamma': 0.1}</td>\n",
       "      <td>0.991328</td>\n",
       "      <td>0.990294</td>\n",
       "      <td>0.956659</td>\n",
       "      <td>0.950439</td>\n",
       "    </tr>\n",
       "    <tr>\n",
       "      <th>4</th>\n",
       "      <td>DecisionTree</td>\n",
       "      <td>{'max_depth': 3}</td>\n",
       "      <td>0.986085</td>\n",
       "      <td>0.980464</td>\n",
       "      <td>0.955950</td>\n",
       "      <td>0.941574</td>\n",
       "    </tr>\n",
       "  </tbody>\n",
       "</table>\n",
       "</div>"
      ],
      "text/plain": [
       "                  Model           Best Parameters  Train accuracy  \\\n",
       "0  KNeighborsClassifier       {'n_neighbors': 20}        0.992840   \n",
       "1    LogisticRegression                {'C': 100}        0.992184   \n",
       "2             LinearSVC                 {'C': 10}        0.992256   \n",
       "3             KernelSVC  {'C': 100, 'gamma': 0.1}        0.991328   \n",
       "4          DecisionTree          {'max_depth': 3}        0.986085   \n",
       "\n",
       "   Test accuracy  Train AUC Score  Test AUC Score  \n",
       "0       0.982360         0.955569        0.955244  \n",
       "1       0.991584         0.955776        0.949502  \n",
       "2       0.991565         0.958279        0.955885  \n",
       "3       0.990294         0.956659        0.950439  \n",
       "4       0.980464         0.955950        0.941574  "
      ]
     },
     "execution_count": 123,
     "metadata": {},
     "output_type": "execute_result"
    }
   ],
   "source": [
    "project2_report"
   ]
  },
  {
   "cell_type": "code",
   "execution_count": null,
   "metadata": {},
   "outputs": [],
   "source": []
  },
  {
   "cell_type": "markdown",
   "metadata": {},
   "source": [
    "# Apply deep learning models covered in class"
   ]
  },
  {
   "cell_type": "code",
   "execution_count": 13,
   "metadata": {},
   "outputs": [
    {
     "name": "stderr",
     "output_type": "stream",
     "text": [
      "Using TensorFlow backend.\n"
     ]
    }
   ],
   "source": [
    "import numpy as np\n",
    "from sklearn.model_selection import GridSearchCV\n",
    "from keras.models import Sequential\n",
    "from keras.layers import Dense\n",
    "from keras.wrappers.scikit_learn import KerasClassifier"
   ]
  },
  {
   "cell_type": "code",
   "execution_count": 14,
   "metadata": {},
   "outputs": [],
   "source": [
    "def create_model():\n",
    "    #create model\n",
    "    model = Sequential()\n",
    "    model.add(Dense(45, input_dim=77, activation='relu'))\n",
    "    model.add(Dense(25, activation='relu'))\n",
    "    model.add(Dense(6, activation='relu'))\n",
    "    model.add(Dense(1, activation='sigmoid'))\n",
    "    #compile model\n",
    "    model.compile(loss='binary_crossentropy', optimizer='adam', metrics=['accuracy'])\n",
    "    return model"
   ]
  },
  {
   "cell_type": "code",
   "execution_count": 15,
   "metadata": {},
   "outputs": [],
   "source": [
    "model = KerasClassifier(build_fn = create_model, verbose = 0)"
   ]
  },
  {
   "cell_type": "code",
   "execution_count": 16,
   "metadata": {},
   "outputs": [],
   "source": [
    "param_grid = {'batch_size':[10,20,30,40] , 'epochs':[10, 50, 100]}\n",
    "grid_search = GridSearchCV(estimator= model, param_grid = param_grid, cv = 5)"
   ]
  },
  {
   "cell_type": "code",
   "execution_count": 17,
   "metadata": {},
   "outputs": [
    {
     "data": {
      "text/plain": [
       "GridSearchCV(cv=5, error_score='raise',\n",
       "       estimator=<keras.wrappers.scikit_learn.KerasClassifier object at 0x000001DD0FBDEBA8>,\n",
       "       fit_params=None, iid=True, n_jobs=1,\n",
       "       param_grid={'batch_size': [10, 20, 30, 40], 'epochs': [10, 50, 100]},\n",
       "       pre_dispatch='2*n_jobs', refit=True, return_train_score='warn',\n",
       "       scoring=None, verbose=0)"
      ]
     },
     "execution_count": 17,
     "metadata": {},
     "output_type": "execute_result"
    }
   ],
   "source": [
    "grid_search.fit(X_train, y_train)"
   ]
  },
  {
   "cell_type": "code",
   "execution_count": 19,
   "metadata": {},
   "outputs": [
    {
     "name": "stdout",
     "output_type": "stream",
     "text": [
      "{'batch_size': 20, 'epochs': 50}\n"
     ]
    }
   ],
   "source": [
    "print(grid_search.best_params_)"
   ]
  },
  {
   "cell_type": "code",
   "execution_count": 20,
   "metadata": {},
   "outputs": [],
   "source": [
    "#Now Building the proper Deep Learning Model"
   ]
  },
  {
   "cell_type": "code",
   "execution_count": 24,
   "metadata": {},
   "outputs": [],
   "source": [
    "bestmodel = Sequential()\n",
    "bestmodel.add(Dense(45, input_dim=77, activation='relu'))\n",
    "bestmodel.add(Dense(25, activation='relu'))\n",
    "bestmodel.add(Dense(6, activation='relu'))\n",
    "bestmodel.add(Dense(1, activation='sigmoid'))\n",
    "    \n",
    "#compile model\n",
    "bestmodel.compile(loss='binary_crossentropy', optimizer='adam', metrics=['accuracy'])"
   ]
  },
  {
   "cell_type": "code",
   "execution_count": 25,
   "metadata": {},
   "outputs": [
    {
     "name": "stdout",
     "output_type": "stream",
     "text": [
      "Epoch 1/50\n",
      "10553/10553 [==============================] - 4s 346us/step - loss: 0.2268 - acc: 0.9124\n",
      "Epoch 2/50\n",
      "10553/10553 [==============================] - 1s 134us/step - loss: 0.1090 - acc: 0.9585\n",
      "Epoch 3/50\n",
      "10553/10553 [==============================] - 1s 136us/step - loss: 0.1035 - acc: 0.9594\n",
      "Epoch 4/50\n",
      "10553/10553 [==============================] - 1s 134us/step - loss: 0.1019 - acc: 0.9611\n",
      "Epoch 5/50\n",
      "10553/10553 [==============================] - 1s 134us/step - loss: 0.0999 - acc: 0.9611\n",
      "Epoch 6/50\n",
      "10553/10553 [==============================] - 1s 138us/step - loss: 0.0999 - acc: 0.9619\n",
      "Epoch 7/50\n",
      "10553/10553 [==============================] - 2s 143us/step - loss: 0.0964 - acc: 0.9619\n",
      "Epoch 8/50\n",
      "10553/10553 [==============================] - 1s 142us/step - loss: 0.0945 - acc: 0.9622\n",
      "Epoch 9/50\n",
      "10553/10553 [==============================] - 1s 135us/step - loss: 0.0933 - acc: 0.9640\n",
      "Epoch 10/50\n",
      "10553/10553 [==============================] - 1s 137us/step - loss: 0.0932 - acc: 0.9642\n",
      "Epoch 11/50\n",
      "10553/10553 [==============================] - 1s 137us/step - loss: 0.0928 - acc: 0.9630\n",
      "Epoch 12/50\n",
      "10553/10553 [==============================] - 1s 135us/step - loss: 0.0925 - acc: 0.9643\n",
      "Epoch 13/50\n",
      "10553/10553 [==============================] - ETA: 0s - loss: 0.0933 - acc: 0.963 - 1s 135us/step - loss: 0.0935 - acc: 0.9633\n",
      "Epoch 14/50\n",
      "10553/10553 [==============================] - 1s 137us/step - loss: 0.0936 - acc: 0.9632\n",
      "Epoch 15/50\n",
      "10553/10553 [==============================] - 1s 136us/step - loss: 0.0938 - acc: 0.9639\n",
      "Epoch 16/50\n",
      "10553/10553 [==============================] - 1s 135us/step - loss: 0.0923 - acc: 0.9631\n",
      "Epoch 17/50\n",
      "10553/10553 [==============================] - 1s 136us/step - loss: 0.0904 - acc: 0.9636\n",
      "Epoch 18/50\n",
      "10553/10553 [==============================] - 1s 135us/step - loss: 0.0915 - acc: 0.9627\n",
      "Epoch 19/50\n",
      "10553/10553 [==============================] - 1s 138us/step - loss: 0.0891 - acc: 0.9643\n",
      "Epoch 20/50\n",
      "10553/10553 [==============================] - 1s 135us/step - loss: 0.0913 - acc: 0.9639\n",
      "Epoch 21/50\n",
      "10553/10553 [==============================] - 1s 136us/step - loss: 0.0899 - acc: 0.9643\n",
      "Epoch 22/50\n",
      "10553/10553 [==============================] - 1s 136us/step - loss: 0.0902 - acc: 0.9645\n",
      "Epoch 23/50\n",
      "10553/10553 [==============================] - 1s 136us/step - loss: 0.0911 - acc: 0.9629\n",
      "Epoch 24/50\n",
      "10553/10553 [==============================] - 1s 138us/step - loss: 0.0901 - acc: 0.9640\n",
      "Epoch 25/50\n",
      "10553/10553 [==============================] - 1s 137us/step - loss: 0.0891 - acc: 0.9647\n",
      "Epoch 26/50\n",
      "10553/10553 [==============================] - 1s 140us/step - loss: 0.0893 - acc: 0.9632\n",
      "Epoch 27/50\n",
      "10553/10553 [==============================] - 1s 141us/step - loss: 0.0889 - acc: 0.9646\n",
      "Epoch 28/50\n",
      "10553/10553 [==============================] - 1s 142us/step - loss: 0.0884 - acc: 0.9656\n",
      "Epoch 29/50\n",
      "10553/10553 [==============================] - 1s 141us/step - loss: 0.0880 - acc: 0.9653\n",
      "Epoch 30/50\n",
      "10553/10553 [==============================] - 1s 140us/step - loss: 0.0878 - acc: 0.9652\n",
      "Epoch 31/50\n",
      "10553/10553 [==============================] - 1s 136us/step - loss: 0.0890 - acc: 0.9641\n",
      "Epoch 32/50\n",
      "10553/10553 [==============================] - 1s 135us/step - loss: 0.0876 - acc: 0.9660\n",
      "Epoch 33/50\n",
      "10553/10553 [==============================] - 1s 134us/step - loss: 0.0888 - acc: 0.9647\n",
      "Epoch 34/50\n",
      "10553/10553 [==============================] - 1s 136us/step - loss: 0.0884 - acc: 0.9644\n",
      "Epoch 35/50\n",
      "10553/10553 [==============================] - 1s 135us/step - loss: 0.0884 - acc: 0.9669\n",
      "Epoch 36/50\n",
      "10553/10553 [==============================] - 1s 135us/step - loss: 0.0879 - acc: 0.9651\n",
      "Epoch 37/50\n",
      "10553/10553 [==============================] - 1s 134us/step - loss: 0.0873 - acc: 0.9655\n",
      "Epoch 38/50\n",
      "10553/10553 [==============================] - 1s 136us/step - loss: 0.0872 - acc: 0.9657\n",
      "Epoch 39/50\n",
      "10553/10553 [==============================] - 1s 134us/step - loss: 0.0875 - acc: 0.9665\n",
      "Epoch 40/50\n",
      "10553/10553 [==============================] - 1s 134us/step - loss: 0.0881 - acc: 0.9659\n",
      "Epoch 41/50\n",
      "10553/10553 [==============================] - 1s 135us/step - loss: 0.0867 - acc: 0.9646\n",
      "Epoch 42/50\n",
      "10553/10553 [==============================] - 1s 136us/step - loss: 0.0886 - acc: 0.9642\n",
      "Epoch 43/50\n",
      "10553/10553 [==============================] - 1s 133us/step - loss: 0.0872 - acc: 0.9652\n",
      "Epoch 44/50\n",
      "10553/10553 [==============================] - 1s 136us/step - loss: 0.0865 - acc: 0.9672\n",
      "Epoch 45/50\n",
      "10553/10553 [==============================] - 1s 136us/step - loss: 0.0865 - acc: 0.9652\n",
      "Epoch 46/50\n",
      "10553/10553 [==============================] - 1s 135us/step - loss: 0.0862 - acc: 0.9647\n",
      "Epoch 47/50\n",
      "10553/10553 [==============================] - 1s 134us/step - loss: 0.0866 - acc: 0.9664\n",
      "Epoch 48/50\n",
      "10553/10553 [==============================] - 1s 136us/step - loss: 0.0855 - acc: 0.9665\n",
      "Epoch 49/50\n",
      "10553/10553 [==============================] - 1s 135us/step - loss: 0.0868 - acc: 0.9653\n",
      "Epoch 50/50\n",
      "10553/10553 [==============================] - 1s 135us/step - loss: 0.0860 - acc: 0.9665\n"
     ]
    },
    {
     "data": {
      "text/plain": [
       "<keras.callbacks.History at 0x1dd1137a828>"
      ]
     },
     "execution_count": 25,
     "metadata": {},
     "output_type": "execute_result"
    }
   ],
   "source": [
    "# Fit the model\n",
    "bestmodel.fit(X_train, y_train, epochs=50, batch_size=20)"
   ]
  },
  {
   "cell_type": "code",
   "execution_count": 27,
   "metadata": {},
   "outputs": [
    {
     "name": "stdout",
     "output_type": "stream",
     "text": [
      "3518/3518 [==============================] - 0s 66us/step\n",
      "\n",
      "acc: 96.84%\n"
     ]
    }
   ],
   "source": [
    "# evaluate the model\n",
    "scores = bestmodel.evaluate(X_test, y_test)\n",
    "print(\"\\n%s: %.2f%%\" % (bestmodel.metrics_names[1], scores[1]*100))"
   ]
  },
  {
   "cell_type": "markdown",
   "metadata": {},
   "source": [
    "# Report"
   ]
  },
  {
   "cell_type": "markdown",
   "metadata": {},
   "source": [
    "Project 3 is an extension of the findings of project 2. We have explored the dataset, there are no missing values and no categorical variables. For ensemble modelling, like all the individual regression models, we have used MinMaxScaler for scaling.\n",
    "\n",
    "#####  Ensemble models\n",
    "It is observed that Soft voting gives overall higher accuracy scores. LinearSVC with Hard voting has the highest accuracy score within the Hard voting classifier of 96.33% and Logistic Regression with Soft voting has the highest accuracy score within the Soft voting classifier of 96.13%.\n",
    "Implemented KNeighborsClassifier and LogisticRegression with Bagging, LinearSVC and DTree Classifier with pasting & DTree Classifier LogisticRegression using Adaboost. GradientBoostingClassifier with max_depth=3 had good accuracy.\n",
    "The best Ensemble model is Decision Tree classifier with Adaboost with 100% Train accuracy and 96.36% test accuracy.\n",
    "\n",
    "#####  PCA\n",
    "Standard scaler is recommended for PCA hence used that for scale the original X data and then applied PCA on it. Ran then PCA model with 0.95 variance and got 15 reduced components. Ran all the models from Projects 2 on the reduced data after PCA. After comparing these results with those of previous project, we observed that the accuracy of the train accuracy improved slightly after performing KNN on the PCA reduced dataset. Also observed approx 1% increase in the accuracy after running Kernel SVM on the PCA reduced dataset. However, the test accuracy has reduced for other models like Logistic regression, Decision tree and Kernalized SVM after using PCA reduced dataset. The reduction in accuracy may be attributed to the fact that the underlying sampling data might have changed from Project 2 to Project 3 that is the 10% sample of Project 2 might be slightly different from that selected in Project 3.\n",
    "Best model after PCA is Kernal SVM.\n",
    "\n",
    "#####  Deep learning\n",
    "Implemented the The deep learning model having Objective Function/Loss Function of Binary cross-entropy\n",
    "Ran grid search on KerasClassifier and found the best parameter is batch_size of 20 and epochs of 50. Built a model on this and got the accuracy of 96.84%"
   ]
  }
 ],
 "metadata": {
  "kernelspec": {
   "display_name": "Python 3",
   "language": "python",
   "name": "python3"
  },
  "language_info": {
   "codemirror_mode": {
    "name": "ipython",
    "version": 3
   },
   "file_extension": ".py",
   "mimetype": "text/x-python",
   "name": "python",
   "nbconvert_exporter": "python",
   "pygments_lexer": "ipython3",
   "version": "3.7.0"
  }
 },
 "nbformat": 4,
 "nbformat_minor": 2
}
