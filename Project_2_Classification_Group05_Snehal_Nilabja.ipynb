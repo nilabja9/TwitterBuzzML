{
 "cells": [
  {
   "cell_type": "markdown",
   "metadata": {},
   "source": [
    "Classification Task:\n",
    "\n",
    "Decide about a good evaluation strategy and justify your choice. Find best parameters for the following classification models: KNN classification, Logistic Regression, Linear Support Vector Machine, Kernelized Support Vector Machine, Decision Tree. Which model gives the best results?"
   ]
  },
  {
   "cell_type": "code",
   "execution_count": 42,
   "metadata": {},
   "outputs": [],
   "source": [
    "import pandas as pd\n",
    "import numpy as np\n",
    "import matplotlib.pyplot as plt\n",
    "import mglearn\n",
    "from sklearn.metrics import roc_auc_score\n",
    "from sklearn.model_selection import train_test_split\n",
    "from sklearn.preprocessing import MinMaxScaler\n",
    "from sklearn.model_selection import GridSearchCV\n",
    "from sklearn.neighbors import KNeighborsClassifier\n",
    "from sklearn.svm import LinearSVC\n",
    "from sklearn.ensemble import VotingClassifier\n",
    "from sklearn.linear_model import LogisticRegression\n",
    "from sklearn.svm import SVC\n",
    "from sklearn.ensemble import RandomForestClassifier\n",
    "from sklearn.tree import DecisionTreeClassifier\n",
    "from sklearn import metrics\n",
    "from sklearn.metrics import roc_curve, auc\n",
    "from sklearn.metrics import roc_auc_score\n",
    "import warnings\n",
    "warnings.filterwarnings('ignore')\n",
    "from pandas import ExcelWriter"
   ]
  },
  {
   "cell_type": "code",
   "execution_count": 2,
   "metadata": {},
   "outputs": [],
   "source": [
    "Twitter_Absolute_Sigma = pd.read_table('Twitter-Absolute-Sigma-500.data',sep=\",\")"
   ]
  },
  {
   "cell_type": "code",
   "execution_count": 3,
   "metadata": {},
   "outputs": [],
   "source": [
    "Twitter_Absolute_Sigma.columns= [\"NCD_0\", \"NCD_1\", \"NCD_2\", \"NCD_3\", \"NCD_4\", \"NCD_5\", \"NCD_6\", \"AI_0\", \"AI_1\", \"AI_2\", \"AI_3\", \"AI_4\", \"AI_5\", \"AI_6\", \"AS_NA_0\", \"AS_NA_1\", \"AS_NA_2\", \"AS_NA_3\", \"AS_NA_4\", \"AS_NA_5\", \"AS_NA_6\", \"BL_0\", \"BL_1\", \"BL_2\", \"BL_3\", \"BL_4\", \"BL_5\", \"BL_6\", \"NAC_0\", \"NAC_1\", \"NAC_2\", \"NAC_3\", \"NAC_4\", \"NAC_5\", \"NAC_6\", \"AS_NAC_0\", \"AS_NAC_1\", \"AS_NAC_2\", \"AS_NAC_3\", \"AS_NAC_4\", \"AS_NAC_5\", \"AS_NAC_6\", \"CS_0\", \"CS_1\", \"CS_2\", \"CS_3\", \"CS_4\", \"CS_5\", \"CS_6\", \"AT_0\", \"AT_1\", \"AT_2\", \"AT_3\", \"AT_4\", \"AT_5\", \"AT_6\", \"NA_0\", \"NA_1\", \"NA_2\", \"NA_3\", \"NA_4\", \"NA_5\", \"NA_6\", \"ADL_0\", \"ADL_1\", \"ADL_2\", \"ADL_3\", \"ADL_4\", \"ADL_5\", \"ADL_6\", \"NAD_0\", \"NAD_1\", \"NAD_2\", \"NAD_3\", \"NAD_4\", \"NAD_5\", \"NAD_6\", \"buzz\"]"
   ]
  },
  {
   "cell_type": "code",
   "execution_count": 4,
   "metadata": {},
   "outputs": [
    {
     "data": {
      "text/html": [
       "<div>\n",
       "<style scoped>\n",
       "    .dataframe tbody tr th:only-of-type {\n",
       "        vertical-align: middle;\n",
       "    }\n",
       "\n",
       "    .dataframe tbody tr th {\n",
       "        vertical-align: top;\n",
       "    }\n",
       "\n",
       "    .dataframe thead th {\n",
       "        text-align: right;\n",
       "    }\n",
       "</style>\n",
       "<table border=\"1\" class=\"dataframe\">\n",
       "  <thead>\n",
       "    <tr style=\"text-align: right;\">\n",
       "      <th></th>\n",
       "      <th>NCD_0</th>\n",
       "      <th>NCD_1</th>\n",
       "      <th>NCD_2</th>\n",
       "      <th>NCD_3</th>\n",
       "      <th>NCD_4</th>\n",
       "      <th>NCD_5</th>\n",
       "      <th>NCD_6</th>\n",
       "      <th>AI_0</th>\n",
       "      <th>AI_1</th>\n",
       "      <th>AI_2</th>\n",
       "      <th>...</th>\n",
       "      <th>ADL_5</th>\n",
       "      <th>ADL_6</th>\n",
       "      <th>NAD_0</th>\n",
       "      <th>NAD_1</th>\n",
       "      <th>NAD_2</th>\n",
       "      <th>NAD_3</th>\n",
       "      <th>NAD_4</th>\n",
       "      <th>NAD_5</th>\n",
       "      <th>NAD_6</th>\n",
       "      <th>buzz</th>\n",
       "    </tr>\n",
       "  </thead>\n",
       "  <tbody>\n",
       "    <tr>\n",
       "      <th>count</th>\n",
       "      <td>140706.000000</td>\n",
       "      <td>140706.000000</td>\n",
       "      <td>140706.000000</td>\n",
       "      <td>140706.000000</td>\n",
       "      <td>140706.000000</td>\n",
       "      <td>140706.000000</td>\n",
       "      <td>140706.000000</td>\n",
       "      <td>140706.000000</td>\n",
       "      <td>140706.000000</td>\n",
       "      <td>140706.000000</td>\n",
       "      <td>...</td>\n",
       "      <td>140706.000000</td>\n",
       "      <td>140706.000000</td>\n",
       "      <td>140706.000000</td>\n",
       "      <td>140706.000000</td>\n",
       "      <td>140706.000000</td>\n",
       "      <td>140706.000000</td>\n",
       "      <td>140706.000000</td>\n",
       "      <td>140706.000000</td>\n",
       "      <td>140706.000000</td>\n",
       "      <td>140706.000000</td>\n",
       "    </tr>\n",
       "    <tr>\n",
       "      <th>mean</th>\n",
       "      <td>172.274729</td>\n",
       "      <td>155.145054</td>\n",
       "      <td>165.458829</td>\n",
       "      <td>176.816085</td>\n",
       "      <td>186.933308</td>\n",
       "      <td>216.202621</td>\n",
       "      <td>243.860276</td>\n",
       "      <td>87.046871</td>\n",
       "      <td>78.635438</td>\n",
       "      <td>84.266001</td>\n",
       "      <td>...</td>\n",
       "      <td>1.113444</td>\n",
       "      <td>1.196132</td>\n",
       "      <td>172.833717</td>\n",
       "      <td>155.625311</td>\n",
       "      <td>165.933031</td>\n",
       "      <td>177.310349</td>\n",
       "      <td>187.459405</td>\n",
       "      <td>216.769711</td>\n",
       "      <td>244.472965</td>\n",
       "      <td>0.197390</td>\n",
       "    </tr>\n",
       "    <tr>\n",
       "      <th>std</th>\n",
       "      <td>509.870507</td>\n",
       "      <td>471.570282</td>\n",
       "      <td>495.357468</td>\n",
       "      <td>528.350500</td>\n",
       "      <td>560.330850</td>\n",
       "      <td>632.185796</td>\n",
       "      <td>707.400841</td>\n",
       "      <td>234.729351</td>\n",
       "      <td>218.444310</td>\n",
       "      <td>233.533494</td>\n",
       "      <td>...</td>\n",
       "      <td>1.374292</td>\n",
       "      <td>1.826157</td>\n",
       "      <td>510.935798</td>\n",
       "      <td>472.459796</td>\n",
       "      <td>496.230805</td>\n",
       "      <td>529.285749</td>\n",
       "      <td>561.309068</td>\n",
       "      <td>633.201370</td>\n",
       "      <td>708.435459</td>\n",
       "      <td>0.398031</td>\n",
       "    </tr>\n",
       "    <tr>\n",
       "      <th>min</th>\n",
       "      <td>0.000000</td>\n",
       "      <td>0.000000</td>\n",
       "      <td>0.000000</td>\n",
       "      <td>0.000000</td>\n",
       "      <td>0.000000</td>\n",
       "      <td>0.000000</td>\n",
       "      <td>0.000000</td>\n",
       "      <td>0.000000</td>\n",
       "      <td>0.000000</td>\n",
       "      <td>0.000000</td>\n",
       "      <td>...</td>\n",
       "      <td>0.000000</td>\n",
       "      <td>0.000000</td>\n",
       "      <td>0.000000</td>\n",
       "      <td>0.000000</td>\n",
       "      <td>0.000000</td>\n",
       "      <td>0.000000</td>\n",
       "      <td>0.000000</td>\n",
       "      <td>0.000000</td>\n",
       "      <td>0.000000</td>\n",
       "      <td>0.000000</td>\n",
       "    </tr>\n",
       "    <tr>\n",
       "      <th>25%</th>\n",
       "      <td>3.000000</td>\n",
       "      <td>2.000000</td>\n",
       "      <td>3.000000</td>\n",
       "      <td>3.000000</td>\n",
       "      <td>3.000000</td>\n",
       "      <td>4.000000</td>\n",
       "      <td>5.000000</td>\n",
       "      <td>2.000000</td>\n",
       "      <td>2.000000</td>\n",
       "      <td>2.000000</td>\n",
       "      <td>...</td>\n",
       "      <td>1.000000</td>\n",
       "      <td>1.000000</td>\n",
       "      <td>3.000000</td>\n",
       "      <td>2.000000</td>\n",
       "      <td>3.000000</td>\n",
       "      <td>3.000000</td>\n",
       "      <td>3.000000</td>\n",
       "      <td>4.000000</td>\n",
       "      <td>6.000000</td>\n",
       "      <td>0.000000</td>\n",
       "    </tr>\n",
       "    <tr>\n",
       "      <th>50%</th>\n",
       "      <td>22.000000</td>\n",
       "      <td>19.000000</td>\n",
       "      <td>20.000000</td>\n",
       "      <td>22.000000</td>\n",
       "      <td>23.000000</td>\n",
       "      <td>28.000000</td>\n",
       "      <td>33.000000</td>\n",
       "      <td>13.000000</td>\n",
       "      <td>11.000000</td>\n",
       "      <td>13.000000</td>\n",
       "      <td>...</td>\n",
       "      <td>1.000000</td>\n",
       "      <td>1.000000</td>\n",
       "      <td>22.000000</td>\n",
       "      <td>19.000000</td>\n",
       "      <td>21.000000</td>\n",
       "      <td>22.000000</td>\n",
       "      <td>23.000000</td>\n",
       "      <td>28.000000</td>\n",
       "      <td>33.000000</td>\n",
       "      <td>0.000000</td>\n",
       "    </tr>\n",
       "    <tr>\n",
       "      <th>75%</th>\n",
       "      <td>125.000000</td>\n",
       "      <td>112.000000</td>\n",
       "      <td>119.000000</td>\n",
       "      <td>126.000000</td>\n",
       "      <td>133.000000</td>\n",
       "      <td>161.000000</td>\n",
       "      <td>186.000000</td>\n",
       "      <td>70.000000</td>\n",
       "      <td>64.000000</td>\n",
       "      <td>67.000000</td>\n",
       "      <td>...</td>\n",
       "      <td>1.100000</td>\n",
       "      <td>1.119048</td>\n",
       "      <td>126.000000</td>\n",
       "      <td>113.000000</td>\n",
       "      <td>119.000000</td>\n",
       "      <td>127.000000</td>\n",
       "      <td>134.000000</td>\n",
       "      <td>162.000000</td>\n",
       "      <td>187.000000</td>\n",
       "      <td>0.000000</td>\n",
       "    </tr>\n",
       "    <tr>\n",
       "      <th>max</th>\n",
       "      <td>24210.000000</td>\n",
       "      <td>22899.000000</td>\n",
       "      <td>20495.000000</td>\n",
       "      <td>27007.000000</td>\n",
       "      <td>30957.000000</td>\n",
       "      <td>28603.000000</td>\n",
       "      <td>37505.000000</td>\n",
       "      <td>15105.000000</td>\n",
       "      <td>15730.000000</td>\n",
       "      <td>16389.000000</td>\n",
       "      <td>...</td>\n",
       "      <td>185.666672</td>\n",
       "      <td>295.000000</td>\n",
       "      <td>24301.000000</td>\n",
       "      <td>22980.000000</td>\n",
       "      <td>20495.000000</td>\n",
       "      <td>27071.000000</td>\n",
       "      <td>31028.000000</td>\n",
       "      <td>28697.000000</td>\n",
       "      <td>37505.000000</td>\n",
       "      <td>1.000000</td>\n",
       "    </tr>\n",
       "  </tbody>\n",
       "</table>\n",
       "<p>8 rows × 78 columns</p>\n",
       "</div>"
      ],
      "text/plain": [
       "               NCD_0          NCD_1          NCD_2          NCD_3  \\\n",
       "count  140706.000000  140706.000000  140706.000000  140706.000000   \n",
       "mean      172.274729     155.145054     165.458829     176.816085   \n",
       "std       509.870507     471.570282     495.357468     528.350500   \n",
       "min         0.000000       0.000000       0.000000       0.000000   \n",
       "25%         3.000000       2.000000       3.000000       3.000000   \n",
       "50%        22.000000      19.000000      20.000000      22.000000   \n",
       "75%       125.000000     112.000000     119.000000     126.000000   \n",
       "max     24210.000000   22899.000000   20495.000000   27007.000000   \n",
       "\n",
       "               NCD_4          NCD_5          NCD_6           AI_0  \\\n",
       "count  140706.000000  140706.000000  140706.000000  140706.000000   \n",
       "mean      186.933308     216.202621     243.860276      87.046871   \n",
       "std       560.330850     632.185796     707.400841     234.729351   \n",
       "min         0.000000       0.000000       0.000000       0.000000   \n",
       "25%         3.000000       4.000000       5.000000       2.000000   \n",
       "50%        23.000000      28.000000      33.000000      13.000000   \n",
       "75%       133.000000     161.000000     186.000000      70.000000   \n",
       "max     30957.000000   28603.000000   37505.000000   15105.000000   \n",
       "\n",
       "                AI_1           AI_2      ...                ADL_5  \\\n",
       "count  140706.000000  140706.000000      ...        140706.000000   \n",
       "mean       78.635438      84.266001      ...             1.113444   \n",
       "std       218.444310     233.533494      ...             1.374292   \n",
       "min         0.000000       0.000000      ...             0.000000   \n",
       "25%         2.000000       2.000000      ...             1.000000   \n",
       "50%        11.000000      13.000000      ...             1.000000   \n",
       "75%        64.000000      67.000000      ...             1.100000   \n",
       "max     15730.000000   16389.000000      ...           185.666672   \n",
       "\n",
       "               ADL_6          NAD_0          NAD_1          NAD_2  \\\n",
       "count  140706.000000  140706.000000  140706.000000  140706.000000   \n",
       "mean        1.196132     172.833717     155.625311     165.933031   \n",
       "std         1.826157     510.935798     472.459796     496.230805   \n",
       "min         0.000000       0.000000       0.000000       0.000000   \n",
       "25%         1.000000       3.000000       2.000000       3.000000   \n",
       "50%         1.000000      22.000000      19.000000      21.000000   \n",
       "75%         1.119048     126.000000     113.000000     119.000000   \n",
       "max       295.000000   24301.000000   22980.000000   20495.000000   \n",
       "\n",
       "               NAD_3          NAD_4          NAD_5          NAD_6  \\\n",
       "count  140706.000000  140706.000000  140706.000000  140706.000000   \n",
       "mean      177.310349     187.459405     216.769711     244.472965   \n",
       "std       529.285749     561.309068     633.201370     708.435459   \n",
       "min         0.000000       0.000000       0.000000       0.000000   \n",
       "25%         3.000000       3.000000       4.000000       6.000000   \n",
       "50%        22.000000      23.000000      28.000000      33.000000   \n",
       "75%       127.000000     134.000000     162.000000     187.000000   \n",
       "max     27071.000000   31028.000000   28697.000000   37505.000000   \n",
       "\n",
       "                buzz  \n",
       "count  140706.000000  \n",
       "mean        0.197390  \n",
       "std         0.398031  \n",
       "min         0.000000  \n",
       "25%         0.000000  \n",
       "50%         0.000000  \n",
       "75%         0.000000  \n",
       "max         1.000000  \n",
       "\n",
       "[8 rows x 78 columns]"
      ]
     },
     "execution_count": 4,
     "metadata": {},
     "output_type": "execute_result"
    }
   ],
   "source": [
    "Twitter_Absolute_Sigma.describe()"
   ]
  },
  {
   "cell_type": "code",
   "execution_count": 5,
   "metadata": {},
   "outputs": [
    {
     "name": "stdout",
     "output_type": "stream",
     "text": [
      "<class 'pandas.core.frame.DataFrame'>\n",
      "RangeIndex: 140706 entries, 0 to 140705\n",
      "Data columns (total 78 columns):\n",
      "NCD_0       140706 non-null int64\n",
      "NCD_1       140706 non-null int64\n",
      "NCD_2       140706 non-null int64\n",
      "NCD_3       140706 non-null int64\n",
      "NCD_4       140706 non-null int64\n",
      "NCD_5       140706 non-null int64\n",
      "NCD_6       140706 non-null int64\n",
      "AI_0        140706 non-null int64\n",
      "AI_1        140706 non-null int64\n",
      "AI_2        140706 non-null int64\n",
      "AI_3        140706 non-null int64\n",
      "AI_4        140706 non-null int64\n",
      "AI_5        140706 non-null int64\n",
      "AI_6        140706 non-null int64\n",
      "AS_NA_0     140706 non-null float64\n",
      "AS_NA_1     140706 non-null float64\n",
      "AS_NA_2     140706 non-null float64\n",
      "AS_NA_3     140706 non-null float64\n",
      "AS_NA_4     140706 non-null float64\n",
      "AS_NA_5     140706 non-null float64\n",
      "AS_NA_6     140706 non-null float64\n",
      "BL_0        140706 non-null float64\n",
      "BL_1        140706 non-null float64\n",
      "BL_2        140706 non-null float64\n",
      "BL_3        140706 non-null float64\n",
      "BL_4        140706 non-null float64\n",
      "BL_5        140706 non-null float64\n",
      "BL_6        140706 non-null float64\n",
      "NAC_0       140706 non-null int64\n",
      "NAC_1       140706 non-null int64\n",
      "NAC_2       140706 non-null int64\n",
      "NAC_3       140706 non-null int64\n",
      "NAC_4       140706 non-null int64\n",
      "NAC_5       140706 non-null int64\n",
      "NAC_6       140706 non-null int64\n",
      "AS_NAC_0    140706 non-null float64\n",
      "AS_NAC_1    140706 non-null float64\n",
      "AS_NAC_2    140706 non-null float64\n",
      "AS_NAC_3    140706 non-null float64\n",
      "AS_NAC_4    140706 non-null float64\n",
      "AS_NAC_5    140706 non-null float64\n",
      "AS_NAC_6    140706 non-null float64\n",
      "CS_0        140706 non-null float64\n",
      "CS_1        140706 non-null float64\n",
      "CS_2        140706 non-null float64\n",
      "CS_3        140706 non-null float64\n",
      "CS_4        140706 non-null float64\n",
      "CS_5        140706 non-null float64\n",
      "CS_6        140706 non-null float64\n",
      "AT_0        140706 non-null float64\n",
      "AT_1        140706 non-null float64\n",
      "AT_2        140706 non-null float64\n",
      "AT_3        140706 non-null float64\n",
      "AT_4        140706 non-null float64\n",
      "AT_5        140706 non-null float64\n",
      "AT_6        140706 non-null float64\n",
      "NA_0        140706 non-null int64\n",
      "NA_1        140706 non-null int64\n",
      "NA_2        140706 non-null int64\n",
      "NA_3        140706 non-null int64\n",
      "NA_4        140706 non-null int64\n",
      "NA_5        140706 non-null int64\n",
      "NA_6        140706 non-null int64\n",
      "ADL_0       140706 non-null float64\n",
      "ADL_1       140706 non-null float64\n",
      "ADL_2       140706 non-null float64\n",
      "ADL_3       140706 non-null float64\n",
      "ADL_4       140706 non-null float64\n",
      "ADL_5       140706 non-null float64\n",
      "ADL_6       140706 non-null float64\n",
      "NAD_0       140706 non-null int64\n",
      "NAD_1       140706 non-null int64\n",
      "NAD_2       140706 non-null int64\n",
      "NAD_3       140706 non-null int64\n",
      "NAD_4       140706 non-null int64\n",
      "NAD_5       140706 non-null int64\n",
      "NAD_6       140706 non-null int64\n",
      "buzz        140706 non-null float64\n",
      "dtypes: float64(43), int64(35)\n",
      "memory usage: 83.7 MB\n"
     ]
    }
   ],
   "source": [
    "Twitter_Absolute_Sigma.info()"
   ]
  },
  {
   "cell_type": "code",
   "execution_count": 15,
   "metadata": {},
   "outputs": [],
   "source": [
    "#Transforming the predicted buzz column to integer\n",
    "Twitter_Absolute_Sigma['buzz'] = Twitter_Absolute_Sigma['buzz'].map( {1.0: 1, 0.0: 0} ).astype(int)"
   ]
  },
  {
   "cell_type": "code",
   "execution_count": 16,
   "metadata": {},
   "outputs": [],
   "source": [
    "X = Twitter_Absolute_Sigma"
   ]
  },
  {
   "cell_type": "code",
   "execution_count": 17,
   "metadata": {},
   "outputs": [],
   "source": [
    "X= X.drop(['buzz'],axis = 1)\n",
    "y = Twitter_Absolute_Sigma['buzz']"
   ]
  },
  {
   "cell_type": "code",
   "execution_count": 18,
   "metadata": {},
   "outputs": [
    {
     "data": {
      "text/plain": [
       "0.19739030318536524"
      ]
     },
     "execution_count": 18,
     "metadata": {},
     "output_type": "execute_result"
    }
   ],
   "source": [
    "y.sum()/y.count()"
   ]
  },
  {
   "cell_type": "code",
   "execution_count": 19,
   "metadata": {},
   "outputs": [
    {
     "data": {
      "text/plain": [
       "0.8026096968146348"
      ]
     },
     "execution_count": 19,
     "metadata": {},
     "output_type": "execute_result"
    }
   ],
   "source": [
    "#null accuracy\n",
    "max(y.mean(), 1 - y.mean())"
   ]
  },
  {
   "cell_type": "markdown",
   "metadata": {},
   "source": [
    "Bases on the null accuracy and y.sum()/y.count() we see that the dataset is not balanced. AUC is to be used when evaluating models on imbalanced data. \n",
    "Hence for this project we consider AUC as a scoring function."
   ]
  },
  {
   "cell_type": "code",
   "execution_count": 20,
   "metadata": {},
   "outputs": [],
   "source": [
    "#First for Model Selection we use a 10% randomized data sample\n",
    "Dummytrain,sample_data,Dummytrain2,sample_target = train_test_split(X, y, shuffle = True, test_size = 0.1)"
   ]
  },
  {
   "cell_type": "code",
   "execution_count": 21,
   "metadata": {},
   "outputs": [],
   "source": [
    "X = sample_data\n",
    "y = sample_target"
   ]
  },
  {
   "cell_type": "code",
   "execution_count": 23,
   "metadata": {},
   "outputs": [],
   "source": [
    "X_train_org, X_test_org, y_train, y_test = train_test_split(X, y, random_state=0)"
   ]
  },
  {
   "cell_type": "code",
   "execution_count": 24,
   "metadata": {},
   "outputs": [],
   "source": [
    "#We choose the MinMaxScaler to scale the data\n",
    "scaler = MinMaxScaler()\n",
    "X_train = scaler.fit_transform(X_train_org)\n",
    "X_test = scaler.transform(X_test_org)\n",
    "\n",
    "X_full_scaled = scaler.fit_transform(X)"
   ]
  },
  {
   "cell_type": "markdown",
   "metadata": {},
   "source": [
    "# KNeighborsClassifier model"
   ]
  },
  {
   "cell_type": "code",
   "execution_count": 25,
   "metadata": {},
   "outputs": [
    {
     "data": {
      "text/plain": [
       "GridSearchCV(cv=5, error_score='raise',\n",
       "       estimator=KNeighborsClassifier(algorithm='auto', leaf_size=30, metric='minkowski',\n",
       "           metric_params=None, n_jobs=1, n_neighbors=5, p=2,\n",
       "           weights='uniform'),\n",
       "       fit_params=None, iid=True, n_jobs=1,\n",
       "       param_grid={'n_neighbors': [5, 10, 15, 20]},\n",
       "       pre_dispatch='2*n_jobs', refit=True, return_train_score='warn',\n",
       "       scoring='roc_auc', verbose=0)"
      ]
     },
     "execution_count": 25,
     "metadata": {},
     "output_type": "execute_result"
    }
   ],
   "source": [
    "model_name = 'KNeighborsClassifier'\n",
    "\n",
    "knn = KNeighborsClassifier()\n",
    "param_grid = {'n_neighbors':[5, 10, 15, 20]}\n",
    "\n",
    "grid_knn = GridSearchCV(knn, param_grid=param_grid, cv = 5, scoring='roc_auc')\n",
    "grid_knn.fit(X_train, y_train)"
   ]
  },
  {
   "cell_type": "code",
   "execution_count": 35,
   "metadata": {},
   "outputs": [],
   "source": [
    "train_score = grid_knn.score(X_train, y_train)\n",
    "test_score = grid_knn.score(X_test, y_test)"
   ]
  },
  {
   "cell_type": "code",
   "execution_count": 36,
   "metadata": {},
   "outputs": [
    {
     "data": {
      "text/plain": [
       "{'n_neighbors': 20}"
      ]
     },
     "execution_count": 36,
     "metadata": {},
     "output_type": "execute_result"
    }
   ],
   "source": [
    "best_parameters = str(grid_knn.best_params_)\n",
    "grid_knn.best_params_"
   ]
  },
  {
   "cell_type": "code",
   "execution_count": 37,
   "metadata": {},
   "outputs": [
    {
     "data": {
      "text/plain": [
       "array([0.96912071, 0.97774457, 0.98181645, 0.982144  ])"
      ]
     },
     "execution_count": 37,
     "metadata": {},
     "output_type": "execute_result"
    }
   ],
   "source": [
    "grid_knn.cv_results_['mean_test_score']"
   ]
  },
  {
   "cell_type": "code",
   "execution_count": 38,
   "metadata": {},
   "outputs": [],
   "source": [
    "y_knn_predict = grid_knn.predict(X_test)\n",
    "y_knn_train_predict = grid_knn.predict(X_train)"
   ]
  },
  {
   "cell_type": "code",
   "execution_count": 39,
   "metadata": {},
   "outputs": [
    {
     "name": "stdout",
     "output_type": "stream",
     "text": [
      "Train roc_auc_score: 0.96\n",
      "Test roc_auc_score: 0.96 \n"
     ]
    }
   ],
   "source": [
    "from sklearn.metrics import roc_auc_score\n",
    "\n",
    "auc_train_score = roc_auc_score(y_knn_train_predict, y_train)\n",
    "auc_test_score = roc_auc_score(y_knn_predict, y_test)\n",
    "\n",
    "print('Train roc_auc_score: %.2f'%roc_auc_score(y_knn_train_predict, y_train))\n",
    "print('Test roc_auc_score: %.2f '%roc_auc_score(y_knn_predict, y_test))"
   ]
  },
  {
   "cell_type": "code",
   "execution_count": 40,
   "metadata": {},
   "outputs": [],
   "source": [
    "report_table = []"
   ]
  },
  {
   "cell_type": "code",
   "execution_count": 43,
   "metadata": {},
   "outputs": [
    {
     "data": {
      "text/html": [
       "<div>\n",
       "<style scoped>\n",
       "    .dataframe tbody tr th:only-of-type {\n",
       "        vertical-align: middle;\n",
       "    }\n",
       "\n",
       "    .dataframe tbody tr th {\n",
       "        vertical-align: top;\n",
       "    }\n",
       "\n",
       "    .dataframe thead th {\n",
       "        text-align: right;\n",
       "    }\n",
       "</style>\n",
       "<table border=\"1\" class=\"dataframe\">\n",
       "  <thead>\n",
       "    <tr style=\"text-align: right;\">\n",
       "      <th></th>\n",
       "      <th>Best Parameters</th>\n",
       "      <th>Train accuracy</th>\n",
       "      <th>Test accuracy</th>\n",
       "      <th>Train AUC Score</th>\n",
       "      <th>Test AUC Score</th>\n",
       "    </tr>\n",
       "    <tr>\n",
       "      <th>Model</th>\n",
       "      <th></th>\n",
       "      <th></th>\n",
       "      <th></th>\n",
       "      <th></th>\n",
       "      <th></th>\n",
       "    </tr>\n",
       "  </thead>\n",
       "  <tbody>\n",
       "    <tr>\n",
       "      <th>KNeighborsClassifier</th>\n",
       "      <td>{'n_neighbors': 20}</td>\n",
       "      <td>0.99284</td>\n",
       "      <td>0.98236</td>\n",
       "      <td>0.955569</td>\n",
       "      <td>0.955244</td>\n",
       "    </tr>\n",
       "  </tbody>\n",
       "</table>\n",
       "</div>"
      ],
      "text/plain": [
       "                          Best Parameters  Train accuracy  Test accuracy  \\\n",
       "Model                                                                      \n",
       "KNeighborsClassifier  {'n_neighbors': 20}         0.99284        0.98236   \n",
       "\n",
       "                      Train AUC Score  Test AUC Score  \n",
       "Model                                                  \n",
       "KNeighborsClassifier         0.955569        0.955244  "
      ]
     },
     "execution_count": 43,
     "metadata": {},
     "output_type": "execute_result"
    }
   ],
   "source": [
    "report_table = [[model_name, best_parameters, train_score, test_score, auc_train_score, auc_test_score]]\n",
    "\n",
    "report_tabledf = pd.DataFrame(report_table, columns = ['Model', 'Best Parameters', 'Train accuracy', 'Test accuracy', 'Train AUC Score', 'Test AUC Score']).set_index('Model', drop=True)\n",
    "writer = ExcelWriter('ClassificationReport.xlsx')\n",
    "report_tabledf.to_excel(writer,'Sheet1')\n",
    "writer.save()\n",
    "report_tabledf"
   ]
  },
  {
   "cell_type": "markdown",
   "metadata": {},
   "source": [
    "# LogisticRegression"
   ]
  },
  {
   "cell_type": "code",
   "execution_count": 47,
   "metadata": {},
   "outputs": [],
   "source": [
    "model_name = 'LogisticRegression'\n",
    "\n",
    "logreg = LogisticRegression()\n",
    "param_grid = {'C':[0.001, 0.01, 0.1, 1, 10, 100]}\n",
    "\n",
    "grid_LogisticRegression = GridSearchCV(logreg, param_grid, cv = 5, scoring='roc_auc', return_train_score=True)"
   ]
  },
  {
   "cell_type": "code",
   "execution_count": 48,
   "metadata": {},
   "outputs": [
    {
     "data": {
      "text/plain": [
       "GridSearchCV(cv=5, error_score='raise',\n",
       "       estimator=LogisticRegression(C=1.0, class_weight=None, dual=False, fit_intercept=True,\n",
       "          intercept_scaling=1, max_iter=100, multi_class='ovr', n_jobs=1,\n",
       "          penalty='l2', random_state=None, solver='liblinear', tol=0.0001,\n",
       "          verbose=0, warm_start=False),\n",
       "       fit_params=None, iid=True, n_jobs=1,\n",
       "       param_grid={'C': [0.001, 0.01, 0.1, 1, 10, 100]},\n",
       "       pre_dispatch='2*n_jobs', refit=True, return_train_score=True,\n",
       "       scoring='roc_auc', verbose=0)"
      ]
     },
     "execution_count": 48,
     "metadata": {},
     "output_type": "execute_result"
    }
   ],
   "source": [
    "grid_LogisticRegression.fit(X_train, y_train)"
   ]
  },
  {
   "cell_type": "code",
   "execution_count": 49,
   "metadata": {},
   "outputs": [
    {
     "data": {
      "text/plain": [
       "{'C': 100}"
      ]
     },
     "execution_count": 49,
     "metadata": {},
     "output_type": "execute_result"
    }
   ],
   "source": [
    "best_parameters = str(grid_LogisticRegression.best_params_)\n",
    "grid_LogisticRegression.best_params_"
   ]
  },
  {
   "cell_type": "code",
   "execution_count": 50,
   "metadata": {},
   "outputs": [],
   "source": [
    "train_score = grid_LogisticRegression.score(X_train, y_train)\n",
    "test_score = grid_LogisticRegression.score(X_test, y_test)"
   ]
  },
  {
   "cell_type": "code",
   "execution_count": 51,
   "metadata": {},
   "outputs": [],
   "source": [
    "y_logreg_predict_train = grid_LogisticRegression.predict(X_train)"
   ]
  },
  {
   "cell_type": "code",
   "execution_count": 52,
   "metadata": {},
   "outputs": [],
   "source": [
    "y_logreg_predict = grid_LogisticRegression.predict(X_test)"
   ]
  },
  {
   "cell_type": "code",
   "execution_count": 53,
   "metadata": {},
   "outputs": [],
   "source": [
    "auc_train_score = roc_auc_score(y_logreg_predict_train, y_train)\n",
    "auc_test_score = roc_auc_score(y_logreg_predict, y_test)"
   ]
  },
  {
   "cell_type": "code",
   "execution_count": 54,
   "metadata": {},
   "outputs": [
    {
     "data": {
      "text/html": [
       "<div>\n",
       "<style scoped>\n",
       "    .dataframe tbody tr th:only-of-type {\n",
       "        vertical-align: middle;\n",
       "    }\n",
       "\n",
       "    .dataframe tbody tr th {\n",
       "        vertical-align: top;\n",
       "    }\n",
       "\n",
       "    .dataframe thead th {\n",
       "        text-align: right;\n",
       "    }\n",
       "</style>\n",
       "<table border=\"1\" class=\"dataframe\">\n",
       "  <thead>\n",
       "    <tr style=\"text-align: right;\">\n",
       "      <th></th>\n",
       "      <th>Best Parameters</th>\n",
       "      <th>Train accuracy</th>\n",
       "      <th>Test accuracy</th>\n",
       "      <th>Train AUC Score</th>\n",
       "      <th>Test AUC Score</th>\n",
       "    </tr>\n",
       "    <tr>\n",
       "      <th>Model</th>\n",
       "      <th></th>\n",
       "      <th></th>\n",
       "      <th></th>\n",
       "      <th></th>\n",
       "      <th></th>\n",
       "    </tr>\n",
       "  </thead>\n",
       "  <tbody>\n",
       "    <tr>\n",
       "      <th>KNeighborsClassifier</th>\n",
       "      <td>{'n_neighbors': 20}</td>\n",
       "      <td>0.992840</td>\n",
       "      <td>0.982360</td>\n",
       "      <td>0.955569</td>\n",
       "      <td>0.955244</td>\n",
       "    </tr>\n",
       "    <tr>\n",
       "      <th>LogisticRegression</th>\n",
       "      <td>{'C': 100}</td>\n",
       "      <td>0.992184</td>\n",
       "      <td>0.991584</td>\n",
       "      <td>0.955776</td>\n",
       "      <td>0.949502</td>\n",
       "    </tr>\n",
       "  </tbody>\n",
       "</table>\n",
       "</div>"
      ],
      "text/plain": [
       "                          Best Parameters  Train accuracy  Test accuracy  \\\n",
       "Model                                                                      \n",
       "KNeighborsClassifier  {'n_neighbors': 20}        0.992840       0.982360   \n",
       "LogisticRegression             {'C': 100}        0.992184       0.991584   \n",
       "\n",
       "                      Train AUC Score  Test AUC Score  \n",
       "Model                                                  \n",
       "KNeighborsClassifier         0.955569        0.955244  \n",
       "LogisticRegression           0.955776        0.949502  "
      ]
     },
     "execution_count": 54,
     "metadata": {},
     "output_type": "execute_result"
    }
   ],
   "source": [
    "report_table = report_table + [[model_name, best_parameters, train_score, test_score, auc_train_score, auc_test_score]]\n",
    "\n",
    "report_tabledf = pd.DataFrame(report_table, columns = ['Model', 'Best Parameters', 'Train accuracy', 'Test accuracy', 'Train AUC Score', 'Test AUC Score']).set_index('Model', drop=True)\n",
    "writer = ExcelWriter('ClassificationReport.xlsx')\n",
    "report_tabledf.to_excel(writer,'Sheet1')\n",
    "writer.save()\n",
    "report_tabledf"
   ]
  },
  {
   "cell_type": "markdown",
   "metadata": {},
   "source": [
    "# SVC linear support vector machines (linear SVMs)¶"
   ]
  },
  {
   "cell_type": "code",
   "execution_count": 55,
   "metadata": {},
   "outputs": [],
   "source": [
    "model_name = 'LinearSVC'\n",
    "\n",
    "svc_lin = LinearSVC()\n",
    "param_grid = {'C':[0.001, 0.01, 0.1, 1, 10, 100]}\n",
    "\n",
    "grid_svc_lin = GridSearchCV(svc_lin, param_grid, cv = 5, scoring='roc_auc', return_train_score=True)"
   ]
  },
  {
   "cell_type": "code",
   "execution_count": 56,
   "metadata": {},
   "outputs": [
    {
     "data": {
      "text/plain": [
       "GridSearchCV(cv=5, error_score='raise',\n",
       "       estimator=LinearSVC(C=1.0, class_weight=None, dual=True, fit_intercept=True,\n",
       "     intercept_scaling=1, loss='squared_hinge', max_iter=1000,\n",
       "     multi_class='ovr', penalty='l2', random_state=None, tol=0.0001,\n",
       "     verbose=0),\n",
       "       fit_params=None, iid=True, n_jobs=1,\n",
       "       param_grid={'C': [0.001, 0.01, 0.1, 1, 10, 100]},\n",
       "       pre_dispatch='2*n_jobs', refit=True, return_train_score=True,\n",
       "       scoring='roc_auc', verbose=0)"
      ]
     },
     "execution_count": 56,
     "metadata": {},
     "output_type": "execute_result"
    }
   ],
   "source": [
    "grid_svc_lin.fit(X_train, y_train)"
   ]
  },
  {
   "cell_type": "code",
   "execution_count": 57,
   "metadata": {},
   "outputs": [
    {
     "data": {
      "text/plain": [
       "{'C': 10}"
      ]
     },
     "execution_count": 57,
     "metadata": {},
     "output_type": "execute_result"
    }
   ],
   "source": [
    "best_parameters = str(grid_svc_lin.best_params_)\n",
    "grid_svc_lin.best_params_"
   ]
  },
  {
   "cell_type": "code",
   "execution_count": 58,
   "metadata": {},
   "outputs": [],
   "source": [
    "train_score = grid_svc_lin.score(X_train, y_train)\n",
    "test_score =  grid_svc_lin.score(X_test, y_test)"
   ]
  },
  {
   "cell_type": "code",
   "execution_count": 59,
   "metadata": {},
   "outputs": [],
   "source": [
    "y_svc_lin_predict_train = grid_svc_lin.predict(X_train)\n",
    "y_svc_lin_predict = grid_svc_lin.predict(X_test)"
   ]
  },
  {
   "cell_type": "code",
   "execution_count": 60,
   "metadata": {},
   "outputs": [],
   "source": [
    "auc_train_score = roc_auc_score(y_svc_lin_predict_train, y_train)\n",
    "auc_test_score = roc_auc_score(y_svc_lin_predict, y_test)"
   ]
  },
  {
   "cell_type": "code",
   "execution_count": 61,
   "metadata": {},
   "outputs": [
    {
     "data": {
      "text/html": [
       "<div>\n",
       "<style scoped>\n",
       "    .dataframe tbody tr th:only-of-type {\n",
       "        vertical-align: middle;\n",
       "    }\n",
       "\n",
       "    .dataframe tbody tr th {\n",
       "        vertical-align: top;\n",
       "    }\n",
       "\n",
       "    .dataframe thead th {\n",
       "        text-align: right;\n",
       "    }\n",
       "</style>\n",
       "<table border=\"1\" class=\"dataframe\">\n",
       "  <thead>\n",
       "    <tr style=\"text-align: right;\">\n",
       "      <th></th>\n",
       "      <th>Best Parameters</th>\n",
       "      <th>Train accuracy</th>\n",
       "      <th>Test accuracy</th>\n",
       "      <th>Train AUC Score</th>\n",
       "      <th>Test AUC Score</th>\n",
       "    </tr>\n",
       "    <tr>\n",
       "      <th>Model</th>\n",
       "      <th></th>\n",
       "      <th></th>\n",
       "      <th></th>\n",
       "      <th></th>\n",
       "      <th></th>\n",
       "    </tr>\n",
       "  </thead>\n",
       "  <tbody>\n",
       "    <tr>\n",
       "      <th>KNeighborsClassifier</th>\n",
       "      <td>{'n_neighbors': 20}</td>\n",
       "      <td>0.992840</td>\n",
       "      <td>0.982360</td>\n",
       "      <td>0.955569</td>\n",
       "      <td>0.955244</td>\n",
       "    </tr>\n",
       "    <tr>\n",
       "      <th>LogisticRegression</th>\n",
       "      <td>{'C': 100}</td>\n",
       "      <td>0.992184</td>\n",
       "      <td>0.991584</td>\n",
       "      <td>0.955776</td>\n",
       "      <td>0.949502</td>\n",
       "    </tr>\n",
       "    <tr>\n",
       "      <th>LinearSVC</th>\n",
       "      <td>{'C': 10}</td>\n",
       "      <td>0.992256</td>\n",
       "      <td>0.991565</td>\n",
       "      <td>0.958279</td>\n",
       "      <td>0.955885</td>\n",
       "    </tr>\n",
       "  </tbody>\n",
       "</table>\n",
       "</div>"
      ],
      "text/plain": [
       "                          Best Parameters  Train accuracy  Test accuracy  \\\n",
       "Model                                                                      \n",
       "KNeighborsClassifier  {'n_neighbors': 20}        0.992840       0.982360   \n",
       "LogisticRegression             {'C': 100}        0.992184       0.991584   \n",
       "LinearSVC                       {'C': 10}        0.992256       0.991565   \n",
       "\n",
       "                      Train AUC Score  Test AUC Score  \n",
       "Model                                                  \n",
       "KNeighborsClassifier         0.955569        0.955244  \n",
       "LogisticRegression           0.955776        0.949502  \n",
       "LinearSVC                    0.958279        0.955885  "
      ]
     },
     "execution_count": 61,
     "metadata": {},
     "output_type": "execute_result"
    }
   ],
   "source": [
    "report_table = report_table + [[model_name, best_parameters, train_score, test_score, auc_train_score, auc_test_score]]\n",
    "\n",
    "report_tabledf = pd.DataFrame(report_table, columns = ['Model', 'Best Parameters', 'Train accuracy', 'Test accuracy', 'Train AUC Score', 'Test AUC Score']).set_index('Model', drop=True)\n",
    "writer = ExcelWriter('ClassificationReport.xlsx')\n",
    "report_tabledf.to_excel(writer,'Sheet1')\n",
    "writer.save()\n",
    "report_tabledf"
   ]
  },
  {
   "cell_type": "markdown",
   "metadata": {},
   "source": [
    "# Kernalized SVM"
   ]
  },
  {
   "cell_type": "code",
   "execution_count": 62,
   "metadata": {},
   "outputs": [
    {
     "data": {
      "text/plain": [
       "GridSearchCV(cv=5, error_score='raise',\n",
       "       estimator=SVC(C=1.0, cache_size=200, class_weight=None, coef0=0.0,\n",
       "  decision_function_shape='ovr', degree=3, gamma='auto', kernel='rbf',\n",
       "  max_iter=-1, probability=False, random_state=None, shrinking=True,\n",
       "  tol=0.001, verbose=False),\n",
       "       fit_params=None, iid=True, n_jobs=-1,\n",
       "       param_grid={'gamma': [0.01, 0.1, 1, 10, 100], 'C': [0.01, 0.1, 1, 10, 100]},\n",
       "       pre_dispatch='2*n_jobs', refit=True, return_train_score=True,\n",
       "       scoring='roc_auc', verbose=0)"
      ]
     },
     "execution_count": 62,
     "metadata": {},
     "output_type": "execute_result"
    }
   ],
   "source": [
    "model_name = 'KernelSVC'\n",
    "\n",
    "C_range = [0.01, 0.1, 1, 10, 100]\n",
    "gamma_range = [0.01, 0.1, 1, 10, 100]\n",
    "svc_param_grid = dict(gamma=gamma_range, C=C_range)\n",
    "#When nothing is passed to the Kernel parameter by default it takes 'rbf'\n",
    "grid_SVC_rbf = GridSearchCV(SVC(), svc_param_grid, cv = 5, scoring='roc_auc', return_train_score=True, n_jobs=-1)\n",
    "grid_SVC_rbf.fit(X_train, y_train)"
   ]
  },
  {
   "cell_type": "code",
   "execution_count": 63,
   "metadata": {},
   "outputs": [
    {
     "data": {
      "text/plain": [
       "{'C': 100, 'gamma': 0.1}"
      ]
     },
     "execution_count": 63,
     "metadata": {},
     "output_type": "execute_result"
    }
   ],
   "source": [
    "best_parameters = str(grid_SVC_rbf.best_params_)\n",
    "grid_SVC_rbf.best_params_"
   ]
  },
  {
   "cell_type": "code",
   "execution_count": 64,
   "metadata": {},
   "outputs": [],
   "source": [
    "train_score = grid_SVC_rbf.score(X_train, y_train)\n",
    "test_score = grid_SVC_rbf.score(X_test, y_test)"
   ]
  },
  {
   "cell_type": "code",
   "execution_count": 65,
   "metadata": {},
   "outputs": [],
   "source": [
    "y_SVM_predict_train = grid_SVC_rbf.predict(X_train)\n",
    "y_SVM_predict_test = grid_SVC_rbf.predict(X_test)"
   ]
  },
  {
   "cell_type": "code",
   "execution_count": 66,
   "metadata": {},
   "outputs": [],
   "source": [
    "auc_train_score = roc_auc_score(y_SVM_predict_train, y_train)\n",
    "auc_test_score = roc_auc_score(y_SVM_predict_test, y_test)"
   ]
  },
  {
   "cell_type": "code",
   "execution_count": 67,
   "metadata": {},
   "outputs": [
    {
     "data": {
      "text/html": [
       "<div>\n",
       "<style scoped>\n",
       "    .dataframe tbody tr th:only-of-type {\n",
       "        vertical-align: middle;\n",
       "    }\n",
       "\n",
       "    .dataframe tbody tr th {\n",
       "        vertical-align: top;\n",
       "    }\n",
       "\n",
       "    .dataframe thead th {\n",
       "        text-align: right;\n",
       "    }\n",
       "</style>\n",
       "<table border=\"1\" class=\"dataframe\">\n",
       "  <thead>\n",
       "    <tr style=\"text-align: right;\">\n",
       "      <th></th>\n",
       "      <th>Best Parameters</th>\n",
       "      <th>Train accuracy</th>\n",
       "      <th>Test accuracy</th>\n",
       "      <th>Train AUC Score</th>\n",
       "      <th>Test AUC Score</th>\n",
       "    </tr>\n",
       "    <tr>\n",
       "      <th>Model</th>\n",
       "      <th></th>\n",
       "      <th></th>\n",
       "      <th></th>\n",
       "      <th></th>\n",
       "      <th></th>\n",
       "    </tr>\n",
       "  </thead>\n",
       "  <tbody>\n",
       "    <tr>\n",
       "      <th>KNeighborsClassifier</th>\n",
       "      <td>{'n_neighbors': 20}</td>\n",
       "      <td>0.992840</td>\n",
       "      <td>0.982360</td>\n",
       "      <td>0.955569</td>\n",
       "      <td>0.955244</td>\n",
       "    </tr>\n",
       "    <tr>\n",
       "      <th>LogisticRegression</th>\n",
       "      <td>{'C': 100}</td>\n",
       "      <td>0.992184</td>\n",
       "      <td>0.991584</td>\n",
       "      <td>0.955776</td>\n",
       "      <td>0.949502</td>\n",
       "    </tr>\n",
       "    <tr>\n",
       "      <th>LinearSVC</th>\n",
       "      <td>{'C': 10}</td>\n",
       "      <td>0.992256</td>\n",
       "      <td>0.991565</td>\n",
       "      <td>0.958279</td>\n",
       "      <td>0.955885</td>\n",
       "    </tr>\n",
       "    <tr>\n",
       "      <th>KernelSVC</th>\n",
       "      <td>{'C': 100, 'gamma': 0.1}</td>\n",
       "      <td>0.991328</td>\n",
       "      <td>0.990294</td>\n",
       "      <td>0.956659</td>\n",
       "      <td>0.950439</td>\n",
       "    </tr>\n",
       "  </tbody>\n",
       "</table>\n",
       "</div>"
      ],
      "text/plain": [
       "                               Best Parameters  Train accuracy  Test accuracy  \\\n",
       "Model                                                                           \n",
       "KNeighborsClassifier       {'n_neighbors': 20}        0.992840       0.982360   \n",
       "LogisticRegression                  {'C': 100}        0.992184       0.991584   \n",
       "LinearSVC                            {'C': 10}        0.992256       0.991565   \n",
       "KernelSVC             {'C': 100, 'gamma': 0.1}        0.991328       0.990294   \n",
       "\n",
       "                      Train AUC Score  Test AUC Score  \n",
       "Model                                                  \n",
       "KNeighborsClassifier         0.955569        0.955244  \n",
       "LogisticRegression           0.955776        0.949502  \n",
       "LinearSVC                    0.958279        0.955885  \n",
       "KernelSVC                    0.956659        0.950439  "
      ]
     },
     "execution_count": 67,
     "metadata": {},
     "output_type": "execute_result"
    }
   ],
   "source": [
    "report_table = report_table + [[model_name, best_parameters, train_score, test_score, auc_train_score, auc_test_score]]\n",
    "\n",
    "report_tabledf = pd.DataFrame(report_table, columns = ['Model', 'Best Parameters', 'Train accuracy', 'Test accuracy', 'Train AUC Score', 'Test AUC Score']).set_index('Model', drop=True)\n",
    "writer = ExcelWriter('ClassificationReport.xlsx')\n",
    "report_tabledf.to_excel(writer,'Sheet1')\n",
    "writer.save()\n",
    "report_tabledf"
   ]
  },
  {
   "cell_type": "markdown",
   "metadata": {},
   "source": [
    "# Decision Tree"
   ]
  },
  {
   "cell_type": "code",
   "execution_count": 68,
   "metadata": {},
   "outputs": [
    {
     "data": {
      "image/png": "[encoded data removed]",
      "text/plain": [
       "<Figure size 432x288 with 1 Axes>"
      ]
     },
     "metadata": {},
     "output_type": "display_data"
    }
   ],
   "source": [
    "model_name = 'DecisionTree'\n",
    "\n",
    "max_depths = np.linspace(1, 32, 32, endpoint=True)\n",
    "train_results = []\n",
    "test_results = []\n",
    "for max_depth in max_depths:\n",
    "   dt = DecisionTreeClassifier(max_depth=max_depth)\n",
    "   dt.fit(X_train, y_train)\n",
    "   train_pred = dt.predict(X_train)\n",
    "   false_positive_rate, true_positive_rate, thresholds = roc_curve(y_train, train_pred)\n",
    "   roc_auc = auc(false_positive_rate, true_positive_rate)\n",
    "   # Add auc score to previous train results\n",
    "   train_results.append(roc_auc)\n",
    "   y_pred = dt.predict(X_test)\n",
    "   false_positive_rate, true_positive_rate, thresholds = roc_curve(y_test, y_pred)\n",
    "   roc_auc = auc(false_positive_rate, true_positive_rate)\n",
    "   # Add auc score to previous test results\n",
    "   test_results.append(roc_auc)\n",
    "from matplotlib.legend_handler import HandlerLine2D\n",
    "line1, = plt.plot(max_depths, train_results, 'b', label=\"Train AUC\")\n",
    "line2, = plt.plot(max_depths, test_results, 'r', label=\"Test AUC\")\n",
    "plt.legend(handler_map={line1: HandlerLine2D(numpoints=2)})\n",
    "plt.ylabel('AUC score')\n",
    "plt.xlabel('Tree depth')\n",
    "plt.show()"
   ]
  },
  {
   "cell_type": "code",
   "execution_count": 69,
   "metadata": {},
   "outputs": [
    {
     "data": {
      "text/plain": [
       "GridSearchCV(cv=5, error_score='raise',\n",
       "       estimator=DecisionTreeClassifier(class_weight=None, criterion='gini', max_depth=None,\n",
       "            max_features=None, max_leaf_nodes=None,\n",
       "            min_impurity_decrease=0.0, min_impurity_split=None,\n",
       "            min_samples_leaf=1, min_samples_split=2,\n",
       "            min_weight_fraction_leaf=0.0, presort=False, random_state=None,\n",
       "            splitter='best'),\n",
       "       fit_params=None, iid=True, n_jobs=1,\n",
       "       param_grid={'max_depth': [3, 4, 5, 6]}, pre_dispatch='2*n_jobs',\n",
       "       refit=True, return_train_score='warn', scoring='roc_auc', verbose=0)"
      ]
     },
     "execution_count": 69,
     "metadata": {},
     "output_type": "execute_result"
    }
   ],
   "source": [
    "#From the graph we can clearly see that the model is overfitting for tree depth > ~5\n",
    "\n",
    "dtc =DecisionTreeClassifier()\n",
    "param_grid = {'max_depth': [3,4,5,6]}\n",
    "grid_dtree = GridSearchCV(dtc, param_grid, cv=5, scoring='roc_auc')\n",
    "grid_dtree.fit(X_train, y_train)"
   ]
  },
  {
   "cell_type": "code",
   "execution_count": 71,
   "metadata": {},
   "outputs": [
    {
     "data": {
      "text/plain": [
       "{'max_depth': 3}"
      ]
     },
     "execution_count": 71,
     "metadata": {},
     "output_type": "execute_result"
    }
   ],
   "source": [
    "best_parameters = str(grid_dtree.best_params_)\n",
    "grid_dtree.best_params_"
   ]
  },
  {
   "cell_type": "code",
   "execution_count": 72,
   "metadata": {},
   "outputs": [],
   "source": [
    "train_score = grid_dtree.score(X_train,y_train)\n",
    "test_score = grid_dtree.score(X_test, y_test)"
   ]
  },
  {
   "cell_type": "code",
   "execution_count": 73,
   "metadata": {},
   "outputs": [],
   "source": [
    "y_dtree_predict_train = grid_dtree.predict(X_train)\n",
    "y_dtree_predict_test = grid_dtree.predict(X_test)"
   ]
  },
  {
   "cell_type": "code",
   "execution_count": 74,
   "metadata": {},
   "outputs": [],
   "source": [
    "auc_train_score = roc_auc_score(y_dtree_predict_train, y_train)\n",
    "auc_test_score = roc_auc_score(y_dtree_predict_test, y_test)"
   ]
  },
  {
   "cell_type": "code",
   "execution_count": null,
   "metadata": {},
   "outputs": [],
   "source": [
    "report_table = report_table + [[model_name, best_parameters, train_score, test_score, auc_train_score, auc_test_score]]"
   ]
  },
  {
   "cell_type": "code",
   "execution_count": 93,
   "metadata": {},
   "outputs": [
    {
     "data": {
      "text/html": [
       "<div>\n",
       "<style scoped>\n",
       "    .dataframe tbody tr th:only-of-type {\n",
       "        vertical-align: middle;\n",
       "    }\n",
       "\n",
       "    .dataframe tbody tr th {\n",
       "        vertical-align: top;\n",
       "    }\n",
       "\n",
       "    .dataframe thead th {\n",
       "        text-align: right;\n",
       "    }\n",
       "</style>\n",
       "<table border=\"1\" class=\"dataframe\">\n",
       "  <thead>\n",
       "    <tr style=\"text-align: right;\">\n",
       "      <th></th>\n",
       "      <th>Best Parameters</th>\n",
       "      <th>Train accuracy</th>\n",
       "      <th>Test accuracy</th>\n",
       "      <th>Train AUC Score</th>\n",
       "      <th>Test AUC Score</th>\n",
       "    </tr>\n",
       "    <tr>\n",
       "      <th>Model</th>\n",
       "      <th></th>\n",
       "      <th></th>\n",
       "      <th></th>\n",
       "      <th></th>\n",
       "      <th></th>\n",
       "    </tr>\n",
       "  </thead>\n",
       "  <tbody>\n",
       "    <tr>\n",
       "      <th>KNeighborsClassifier</th>\n",
       "      <td>{'n_neighbors': 20}</td>\n",
       "      <td>0.992840</td>\n",
       "      <td>0.982360</td>\n",
       "      <td>0.955569</td>\n",
       "      <td>0.955244</td>\n",
       "    </tr>\n",
       "    <tr>\n",
       "      <th>LogisticRegression</th>\n",
       "      <td>{'C': 100}</td>\n",
       "      <td>0.992184</td>\n",
       "      <td>0.991584</td>\n",
       "      <td>0.955776</td>\n",
       "      <td>0.949502</td>\n",
       "    </tr>\n",
       "    <tr>\n",
       "      <th>LinearSVC</th>\n",
       "      <td>{'C': 10}</td>\n",
       "      <td>0.992256</td>\n",
       "      <td>0.991565</td>\n",
       "      <td>0.958279</td>\n",
       "      <td>0.955885</td>\n",
       "    </tr>\n",
       "    <tr>\n",
       "      <th>KernelSVC</th>\n",
       "      <td>{'C': 100, 'gamma': 0.1}</td>\n",
       "      <td>0.991328</td>\n",
       "      <td>0.990294</td>\n",
       "      <td>0.956659</td>\n",
       "      <td>0.950439</td>\n",
       "    </tr>\n",
       "    <tr>\n",
       "      <th>DecisionTree</th>\n",
       "      <td>{'max_depth': 3}</td>\n",
       "      <td>0.986085</td>\n",
       "      <td>0.980464</td>\n",
       "      <td>0.955950</td>\n",
       "      <td>0.941574</td>\n",
       "    </tr>\n",
       "  </tbody>\n",
       "</table>\n",
       "</div>"
      ],
      "text/plain": [
       "                               Best Parameters  Train accuracy  Test accuracy  \\\n",
       "Model                                                                           \n",
       "KNeighborsClassifier       {'n_neighbors': 20}        0.992840       0.982360   \n",
       "LogisticRegression                  {'C': 100}        0.992184       0.991584   \n",
       "LinearSVC                            {'C': 10}        0.992256       0.991565   \n",
       "KernelSVC             {'C': 100, 'gamma': 0.1}        0.991328       0.990294   \n",
       "DecisionTree                  {'max_depth': 3}        0.986085       0.980464   \n",
       "\n",
       "                      Train AUC Score  Test AUC Score  \n",
       "Model                                                  \n",
       "KNeighborsClassifier         0.955569        0.955244  \n",
       "LogisticRegression           0.955776        0.949502  \n",
       "LinearSVC                    0.958279        0.955885  \n",
       "KernelSVC                    0.956659        0.950439  \n",
       "DecisionTree                 0.955950        0.941574  "
      ]
     },
     "execution_count": 93,
     "metadata": {},
     "output_type": "execute_result"
    }
   ],
   "source": [
    "report_tabledf = pd.DataFrame(report_table, columns = ['Model', 'Best Parameters', 'Train accuracy', 'Test accuracy', 'Train AUC Score', 'Test AUC Score']).set_index('Model', drop=True)\n",
    "writer = ExcelWriter('ClassificationReport.xlsx')\n",
    "report_tabledf.to_excel(writer,'Sheet1')\n",
    "writer.save()\n",
    "report_tabledf"
   ]
  },
  {
   "cell_type": "markdown",
   "metadata": {},
   "source": [
    "# Model Selection\n",
    "From the report we can see that Linear SVC has the highest train AUC score and also highest test AUC score. Hence will choose Linear SVC as the best model for this dataset"
   ]
  },
  {
   "cell_type": "markdown",
   "metadata": {},
   "source": [
    "Final model\n",
    "\n",
    "Running Linear SVC on the entire dataset"
   ]
  },
  {
   "cell_type": "code",
   "execution_count": 94,
   "metadata": {},
   "outputs": [],
   "source": [
    "model_name = 'LinearSVC'\n",
    "X_final = Twitter_Absolute_Sigma\n",
    "X_final= X_final.drop(['buzz'],axis = 1)\n",
    "y_final = Twitter_Absolute_Sigma['buzz']\n",
    "\n",
    "X_train_org, X_test_org, y_train_final, y_test_final = train_test_split(X_final, y_final, random_state=0)"
   ]
  },
  {
   "cell_type": "code",
   "execution_count": 99,
   "metadata": {},
   "outputs": [],
   "source": [
    "#We choose the MinMaxScaler to scale the data\n",
    "scaler = MinMaxScaler()\n",
    "X_train_final = scaler.fit_transform(X_train_org)\n",
    "X_test_final = scaler.transform(X_test_org)\n",
    "\n",
    "X_full_scaled = scaler.fit_transform(X)"
   ]
  },
  {
   "cell_type": "code",
   "execution_count": 100,
   "metadata": {},
   "outputs": [
    {
     "data": {
      "text/plain": [
       "GridSearchCV(cv=5, error_score='raise',\n",
       "       estimator=LinearSVC(C=1.0, class_weight=None, dual=True, fit_intercept=True,\n",
       "     intercept_scaling=1, loss='squared_hinge', max_iter=1000,\n",
       "     multi_class='ovr', penalty='l2', random_state=None, tol=0.0001,\n",
       "     verbose=0),\n",
       "       fit_params=None, iid=True, n_jobs=1,\n",
       "       param_grid={'C': [0.001, 0.01, 0.1, 1, 10, 100]},\n",
       "       pre_dispatch='2*n_jobs', refit=True, return_train_score=True,\n",
       "       scoring='roc_auc', verbose=0)"
      ]
     },
     "execution_count": 100,
     "metadata": {},
     "output_type": "execute_result"
    }
   ],
   "source": [
    "svc_lin = LinearSVC()\n",
    "param_grid = {'C':[0.001, 0.01, 0.1, 1, 10, 100]}\n",
    "\n",
    "grid_svc_lin = GridSearchCV(svc_lin, param_grid, cv = 5, scoring='roc_auc', return_train_score=True)\n",
    "\n",
    "grid_svc_lin.fit(X_train_final, y_train_final)"
   ]
  },
  {
   "cell_type": "code",
   "execution_count": 105,
   "metadata": {},
   "outputs": [
    {
     "data": {
      "text/plain": [
       "{'C': 1}"
      ]
     },
     "execution_count": 105,
     "metadata": {},
     "output_type": "execute_result"
    }
   ],
   "source": [
    "best_parameters = str(grid_svc_lin.best_params_)\n",
    "grid_svc_lin.best_params_"
   ]
  },
  {
   "cell_type": "code",
   "execution_count": 106,
   "metadata": {},
   "outputs": [],
   "source": [
    "train_score = grid_svc_lin.score(X_train_final, y_train_final)\n",
    "test_score = grid_svc_lin.score(X_test_final, y_test_final)"
   ]
  },
  {
   "cell_type": "code",
   "execution_count": 107,
   "metadata": {},
   "outputs": [],
   "source": [
    "y_svc_lin_predict_train = grid_svc_lin.predict(X_train_final)\n",
    "y_svc_lin_predict = grid_svc_lin.predict(X_test_final)"
   ]
  },
  {
   "cell_type": "code",
   "execution_count": 108,
   "metadata": {},
   "outputs": [
    {
     "data": {
      "text/html": [
       "<div>\n",
       "<style scoped>\n",
       "    .dataframe tbody tr th:only-of-type {\n",
       "        vertical-align: middle;\n",
       "    }\n",
       "\n",
       "    .dataframe tbody tr th {\n",
       "        vertical-align: top;\n",
       "    }\n",
       "\n",
       "    .dataframe thead th {\n",
       "        text-align: right;\n",
       "    }\n",
       "</style>\n",
       "<table border=\"1\" class=\"dataframe\">\n",
       "  <thead>\n",
       "    <tr style=\"text-align: right;\">\n",
       "      <th></th>\n",
       "      <th>Best Parameters</th>\n",
       "      <th>Train accuracy</th>\n",
       "      <th>Test accuracy</th>\n",
       "      <th>Train AUC Score</th>\n",
       "      <th>Test AUC Score</th>\n",
       "    </tr>\n",
       "    <tr>\n",
       "      <th>Model</th>\n",
       "      <th></th>\n",
       "      <th></th>\n",
       "      <th></th>\n",
       "      <th></th>\n",
       "      <th></th>\n",
       "    </tr>\n",
       "  </thead>\n",
       "  <tbody>\n",
       "    <tr>\n",
       "      <th>LinearSVC</th>\n",
       "      <td>{'C': 1}</td>\n",
       "      <td>0.991305</td>\n",
       "      <td>0.992105</td>\n",
       "      <td>0.95595</td>\n",
       "      <td>0.941574</td>\n",
       "    </tr>\n",
       "  </tbody>\n",
       "</table>\n",
       "</div>"
      ],
      "text/plain": [
       "          Best Parameters  Train accuracy  Test accuracy  Train AUC Score  \\\n",
       "Model                                                                       \n",
       "LinearSVC        {'C': 1}        0.991305       0.992105          0.95595   \n",
       "\n",
       "           Test AUC Score  \n",
       "Model                      \n",
       "LinearSVC        0.941574  "
      ]
     },
     "execution_count": 108,
     "metadata": {},
     "output_type": "execute_result"
    }
   ],
   "source": [
    "model_name = 'LinearSVC'\n",
    "final_report = []\n",
    "final_report = [[model_name, best_parameters, train_score, test_score, auc_train_score, auc_test_score]]\n",
    "\n",
    "final_reportdf = pd.DataFrame(final_report, columns = ['Model', 'Best Parameters', 'Train accuracy', 'Test accuracy', 'Train AUC Score', 'Test AUC Score']).set_index('Model', drop=True)\n",
    "writer = ExcelWriter('ClassificationFinalReport.xlsx')\n",
    "report_tabledf.to_excel(writer,'Sheet1')\n",
    "writer.save()\n",
    "final_reportdf"
   ]
  },
  {
   "cell_type": "code",
   "execution_count": 109,
   "metadata": {},
   "outputs": [
    {
     "data": {
      "text/plain": [
       "[['LinearSVC',\n",
       "  \"{'C': 1}\",\n",
       "  0.9913051647476957,\n",
       "  0.992104740282261,\n",
       "  0.9559502123242883,\n",
       "  0.941574081838001]]"
      ]
     },
     "execution_count": 109,
     "metadata": {},
     "output_type": "execute_result"
    }
   ],
   "source": [
    "final_report"
   ]
  },
  {
   "cell_type": "code",
   "execution_count": 110,
   "metadata": {},
   "outputs": [
    {
     "data": {
      "text/plain": [
       "2739"
      ]
     },
     "execution_count": 110,
     "metadata": {},
     "output_type": "execute_result"
    }
   ],
   "source": [
    "y_svc_lin_predict\n",
    "y_svc_lin_predict_list = list(y)\n",
    "y_svc_lin_predict_list.count(1)"
   ]
  },
  {
   "cell_type": "code",
   "execution_count": 111,
   "metadata": {},
   "outputs": [
    {
     "data": {
      "text/plain": [
       "11332"
      ]
     },
     "execution_count": 111,
     "metadata": {},
     "output_type": "execute_result"
    }
   ],
   "source": [
    "y_svc_lin_predict_list.count(0)"
   ]
  },
  {
   "cell_type": "code",
   "execution_count": 112,
   "metadata": {},
   "outputs": [],
   "source": [
    "buzz_predicted = (y_svc_lin_predict_list.count(1) / (y_svc_lin_predict_list.count(1) + y_svc_lin_predict_list.count(0)))"
   ]
  },
  {
   "cell_type": "code",
   "execution_count": 113,
   "metadata": {},
   "outputs": [
    {
     "name": "stdout",
     "output_type": "stream",
     "text": [
      "Buzz predicted percentage =  19.465567479212563\n"
     ]
    }
   ],
   "source": [
    "print('Buzz predicted percentage = ',(buzz_predicted*100))"
   ]
  },
  {
   "cell_type": "markdown",
   "metadata": {},
   "source": [
    "# Comprehensive Report for the Classification task"
   ]
  },
  {
   "cell_type": "markdown",
   "metadata": {},
   "source": [
    "Preprocessing:\n",
    "•\tChecking missing values – no missing values found\n",
    "•\tRenamed the column names based on the feature labels\n",
    "•\tCleaned the buzz column to convert it to binary\n",
    "•\tGenerated X and y – kept all the features in X dataset and kept the buzz column in y\n",
    "Classification Strategy:\n",
    "As the dataset is imbalanced, we selected AUC has the appropriate evaluation strategy\n",
    "\n",
    "Best parameters for each model:\n",
    "KNN - n_neighbors: 20\n",
    "Logistic Regression - C: 100\n",
    "Linear SVC - C: 10\n",
    "SVM RBF kernel  - C': 100, 'gamma': 0.1\n",
    "Decision Tree  - Max_depth – 3\n",
    "\n",
    "Best Model:\n",
    "Based on Train AUC score and Test AUC score – Linear SVC is the best model\n",
    "\n",
    "Results after running Linear SVC on the entire dataset:\n",
    "Model name\t- LinearSVC\n",
    "Model parameter  -\t C = 1\n",
    "Train accuracy\t- 0.9913051647476957\n",
    "Test accuracy\t- 0.992104740282261\n",
    "Train auc score\t- 0.9559502123242883\n",
    "Test auc score\t- 0.941574081838001\n",
    "\n",
    "Buzz predicted percentage =  19.46%"
   ]
  },
  {
   "cell_type": "code",
   "execution_count": null,
   "metadata": {},
   "outputs": [],
   "source": []
  }
 ],
 "metadata": {
  "kernelspec": {
   "display_name": "Python 3",
   "language": "python",
   "name": "python3"
  },
  "language_info": {
   "codemirror_mode": {
    "name": "ipython",
    "version": 3
   },
   "file_extension": ".py",
   "mimetype": "text/x-python",
   "name": "python",
   "nbconvert_exporter": "python",
   "pygments_lexer": "ipython3",
   "version": "3.6.5"
  }
 },
 "nbformat": 4,
 "nbformat_minor": 2
}
